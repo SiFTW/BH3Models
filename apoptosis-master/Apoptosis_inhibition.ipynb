{
 "cells": [
  {
   "cell_type": "markdown",
   "metadata": {},
   "source": [
    "# This notebook will generate the output of the apoptosis model"
   ]
  },
  {
   "cell_type": "markdown",
   "metadata": {},
   "source": [
    "---\n",
    "## Apoptosis Model\n",
    "### Model scope\n",
    "This model was published by Albeck *et al.* 2008 (https://doi.org/10.1371/journal.pbio.0060299) and modified by Loriaux *et al.* 2013 to include expression and degradation of most chemical species (https://doi.org/10.1371/journal.pcbi.1002901). The key finding of this model is the variable delay switch-like behavior. Scope is shown below:"
   ]
  },
  {
   "cell_type": "code",
   "execution_count": 1,
   "metadata": {
    "scrolled": true
   },
   "outputs": [],
   "source": [
    "using DifferentialEquations, DataFrames\n",
    "using Plots, StatsPlots\n",
    "using CSV, Tables\n",
    "using Sundials"
   ]
  },
  {
   "cell_type": "code",
   "execution_count": 2,
   "metadata": {},
   "outputs": [
    {
     "data": {
      "text/plain": [
       "\"../CSV2JuliaDiffEq-master/csv2model.py\""
      ]
     },
     "execution_count": 2,
     "metadata": {},
     "output_type": "execute_result"
    }
   ],
   "source": [
    "#set up where CSV2Julia is\n",
    "locationOfCSV2Julia=\"../CSV2JuliaDiffEq-master/csv2model.py\""
   ]
  },
  {
   "cell_type": "markdown",
   "metadata": {},
   "source": [
    "# RIVA"
   ]
  },
  {
   "cell_type": "code",
   "execution_count": 3,
   "metadata": {},
   "outputs": [
    {
     "name": "stdout",
     "output_type": "stream",
     "text": [
      "Opening moduleDefinitionFiles/Apop_Bcl2_RIVA/rateLaws.csv as rate law file\n",
      "Opening moduleDefinitionFiles/Apop_Bcl2_RIVA/parameters.csv as parameters file\n",
      "Opening moduleDefinitionFiles/Apop_Bcl2_RIVA/reactions.csv as reactions file\n"
     ]
    }
   ],
   "source": [
    "#identify the three CSV sheets that describe the model\n",
    "reactionsFile=\"moduleDefinitionFiles/RIVA/reactions.csv\"\n",
    "parametersFile=\"moduleDefinitionFiles/RIVA/parameters.csv\"\n",
    "rateLawsFile=\"moduleDefinitionFiles/RIVA/rateLaws.csv\"\n",
    "\n",
    "#build a command to execute csv2julia\n",
    "location=[locationOfCSV2Julia]\n",
    "arguments=[reactionsFile, parametersFile, rateLawsFile,\"odeApoptosis.jl\"]\n",
    "cmd=`python3 $locationOfCSV2Julia $arguments`\n",
    "\n",
    "#lets run csv2julia (requires python to be installed)\n",
    "run(cmd)\n",
    "\n",
    "#pop the outputs in a modelFiles folder\n",
    "mkpath(\"modelFiles/RIVA/\")\n",
    "mv(\"odeApoptosis.jl\",\"modelFiles/RIVA/odeApoptosis.jl\", force=true)\n",
    "mv(\"variableNames.jl\",\"modelFiles/RIVA/variableNamesApoptosis.jl\", force=true);"
   ]
  },
  {
   "cell_type": "code",
   "execution_count": 4,
   "metadata": {},
   "outputs": [
    {
     "data": {
      "text/plain": [
       "initConditionsApop (generic function with 1 method)"
      ]
     },
     "execution_count": 4,
     "metadata": {},
     "output_type": "execute_result"
    }
   ],
   "source": [
    "function initConditionsApop(y0,syms)\n",
    "   #units: M \n",
    "   y0[findfirst(isequal(\"DIS\"),syms)]=0 \n",
    "   y0[findfirst(isequal(\"Bid\"),syms)]=60000\n",
    "   y0[findfirst(isequal(\"Puma\"),syms)]=6000 \n",
    "   y0[findfirst(isequal(\"Noxa\"),syms)]=7200 \n",
    "   y0[findfirst(isequal(\"BclxLc\"),syms)]=0 #2800\n",
    "   y0[findfirst(isequal(\"Bim\"),syms)]=7200 \n",
    "   y0[findfirst(isequal(\"Bcl2c\"),syms)]=20000 \n",
    "   y0[findfirst(isequal(\"Mcl1c\"),syms)]=2600\n",
    "   #this is new and will be replaced by cRel control in multiscale modeling\n",
    "   y0[findfirst(isequal(\"Bcl2t\"),syms)]=92 \n",
    "   y0[findfirst(isequal(\"Bax\"),syms)]=7200 \n",
    "   y0[findfirst(isequal(\"MBak\"),syms)]=5000 \n",
    "   y0[findfirst(isequal(\"Mito\"),syms)]=500000\n",
    "   y0[findfirst(isequal(\"Inhib_eff_Bcl2\"),syms)]=1\n",
    "   y0[findfirst(isequal(\"Inhib_eff_BclxL\"),syms)]=1\n",
    "   y0[findfirst(isequal(\"Inhib_eff_Mcl1\"),syms)]=1\n",
    "\n",
    "   return y0\n",
    "end\n"
   ]
  },
  {
   "cell_type": "code",
   "execution_count": 5,
   "metadata": {},
   "outputs": [],
   "source": [
    "include(\"modelFiles/RIVA/odeApoptosis.jl\")\n",
    "include(\"modelFiles/RIVA/variableNamesApoptosis.jl\")\n",
    "p=1\n",
    "maxTimeSS=100.0\n",
    "maxTimeTC=24*60.0\n",
    "params=1;"
   ]
  },
  {
   "cell_type": "code",
   "execution_count": 6,
   "metadata": {},
   "outputs": [],
   "source": [
    "include(\"utilityFunctions/fixSpecies.jl\")\n",
    "fixSpecies(\"modelFiles/RIVA/odeApoptosis.jl\",\"modelFiles/RIVA/odeApoptosisFixed.jl\",1)"
   ]
  },
  {
   "cell_type": "code",
   "execution_count": 7,
   "metadata": {},
   "outputs": [
    {
     "name": "stdout",
     "output_type": "stream",
     "text": [
      "Have errors with SS code so just using a long TC instead\n",
      "Steady state found\n"
     ]
    }
   ],
   "source": [
    "include(\"modelFiles/RIVA/odeApoptosisFixed.jl\")\n",
    "stringSyms=syms\n",
    "y0=zeros(length(syms))\n",
    "y0=initConditionsApop(y0,syms)\n",
    "syms2=Symbol.(syms)\n",
    "f=ODEFunction(odeFile!,syms=syms2)\n",
    "\n",
    "#steady state phase\n",
    "print(\"Have errors with SS code so just using a long TC instead\\n\")\n",
    "# prob=ODEProblem(f,y0,(0.0,maxTimeSS))\n",
    "prob=ODEProblem(f,y0,(0.0,10000.0),abstol=1e-16,reltol=1e-16)\n",
    "solss=solve(prob,saveat=100.0,progress = true,isoutofdomain=(y,p,t)->any(x->x<0,y))\n",
    "# solss=solve(prob,saveat=10.0,progress = true)\n",
    "\n",
    "#save the last bit of the SS solution\n",
    "dfss = DataFrame(solss[end-100:end],:auto)\n",
    "#add the variable names and save to a file\n",
    "insertcols!(dfss, 1, :names=>syms2)\n",
    "mkpath(\"outputFiles/apoptosis/\")\n",
    "CSV.write(\"outputFiles/apoptosis/SS_RIVA.csv\",dfss);\n",
    "print(\"Steady state found\\n\")"
   ]
  },
  {
   "cell_type": "code",
   "execution_count": 8,
   "metadata": {},
   "outputs": [
    {
     "data": {
      "text/plain": [
       "h (generic function with 1 method)"
      ]
     },
     "execution_count": 8,
     "metadata": {},
     "output_type": "execute_result"
    }
   ],
   "source": [
    "#dynamic phase, use SS solution as initial conditions\n",
    "y0=vec(convert(Array, dfss[:,end]))\n",
    "h(p,t)=y0"
   ]
  },
  {
   "cell_type": "code",
   "execution_count": null,
   "metadata": {},
   "outputs": [],
   "source": [
    "\n"
   ]
  },
  {
   "cell_type": "code",
   "execution_count": 9,
   "metadata": {},
   "outputs": [
    {
     "data": {
      "text/plain": [
       "\"outputFiles/apoptosis/TC_RIVA01_Bid.csv\""
      ]
     },
     "execution_count": 9,
     "metadata": {},
     "output_type": "execute_result"
    }
   ],
   "source": [
    "newInit=y0\n",
    "newInit[1]=y0[1]+0.01\n",
    "\n",
    "#we might use this later to remove Bcl2 survival signal\n",
    "#newInit[end]=2.77\n",
    "prob=ODEProblem(f,newInit,(0.0,maxTimeTC),abstol=1e-16,reltol=1e-16,maxiters=1e9)\n",
    "sol=solve(prob,saveat=1.0,progress = true)\n",
    "\n",
    "#lets save this result in a csv file\n",
    "df=DataFrame(sol)\n",
    "# insertcols!(df, 1, :names=>syms)\n",
    "CSV.write(\"outputFiles/apoptosis/TC_RIVA.csv\",df)"
   ]
  },
  {
   "cell_type": "markdown",
   "metadata": {},
   "source": [
    "### Bcl2 inhibition"
   ]
  },
  {
   "cell_type": "code",
   "execution_count": 10,
   "metadata": {},
   "outputs": [
    {
     "name": "stdout",
     "output_type": "stream",
     "text": [
      "Have errors with SS code so just using a long TC instead\n",
      "Steady state found\n"
     ]
    }
   ],
   "source": [
    "include(\"modelFiles/RIVA/odeApoptosisFixed.jl\")\n",
    "stringSyms=syms\n",
    "y0=zeros(length(syms))\n",
    "y0=initConditionsApop(y0,syms)\n",
    "syms2=Symbol.(syms)\n",
    "f=ODEFunction(odeFile!,syms=syms2)\n",
    "\n",
    "#steady state phase\n",
    "print(\"Have errors with SS code so just using a long TC instead\\n\")\n",
    "# prob=ODEProblem(f,y0,(0.0,maxTimeSS))\n",
    "prob=ODEProblem(f,y0,(0.0,10000.0),abstol=1e-16,reltol=1e-16)\n",
    "solss=solve(prob,saveat=100.0,progress = true,isoutofdomain=(y,p,t)->any(x->x<0,y))\n",
    "# solss=solve(prob,saveat=10.0,progress = true)\n",
    "\n",
    "#save the last bit of the SS solution\n",
    "dfss = DataFrame(solss[end-100:end],:auto)\n",
    "#add the variable names and save to a file\n",
    "insertcols!(dfss, 1, :names=>syms2)\n",
    "mkpath(\"outputFiles/apoptosis/\")\n",
    "CSV.write(\"outputFiles/apoptosis/SS_RIVA.csv\",dfss);\n",
    "print(\"Steady state found\\n\")"
   ]
  },
  {
   "cell_type": "code",
   "execution_count": 11,
   "metadata": {},
   "outputs": [
    {
     "data": {
      "text/plain": [
       "h (generic function with 1 method)"
      ]
     },
     "execution_count": 11,
     "metadata": {},
     "output_type": "execute_result"
    }
   ],
   "source": [
    "#dynamic phase, use SS solution as initial conditions\n",
    "y0=vec(convert(Array, dfss[:,end]))\n",
    "h(p,t)=y0"
   ]
  },
  {
   "cell_type": "code",
   "execution_count": 12,
   "metadata": {},
   "outputs": [
    {
     "data": {
      "text/plain": [
       "0.5"
      ]
     },
     "execution_count": 12,
     "metadata": {},
     "output_type": "execute_result"
    }
   ],
   "source": [
    "y0[findfirst(isequal(\"Inhib_eff_Bcl2\"),syms)]=0.5"
   ]
  },
  {
   "cell_type": "code",
   "execution_count": 13,
   "metadata": {},
   "outputs": [
    {
     "data": {
      "text/plain": [
       "\"outputFiles/apoptosis/TC_RIVA01_Bid_Bcl2_05.csv\""
      ]
     },
     "execution_count": 13,
     "metadata": {},
     "output_type": "execute_result"
    }
   ],
   "source": [
    "newInit=y0\n",
    "newInit[1]=y0[1]+0.01\n",
    "\n",
    "#we might use this later to remove Bcl2 survival signal\n",
    "#newInit[end]=2.77\n",
    "prob=ODEProblem(f,newInit,(0.0,maxTimeTC),abstol=1e-16,reltol=1e-16,maxiters=1e9)\n",
    "sol_Bcl2_05=solve(prob,saveat=1.0,progress = true)\n",
    "\n",
    "#lets save this result in a csv file\n",
    "df=DataFrame(sol_Bcl2_05)\n",
    "# insertcols!(df, 1, :names=>syms)\n",
    "CSV.write(\"outputFiles/apoptosis/TC_RIVA_Bcl2_05.csv\",df)"
   ]
  },
  {
   "cell_type": "code",
   "execution_count": 14,
   "metadata": {},
   "outputs": [
    {
     "name": "stdout",
     "output_type": "stream",
     "text": [
      "Have errors with SS code so just using a long TC instead\n",
      "Steady state found\n"
     ]
    }
   ],
   "source": [
    "include(\"modelFiles/RIVA/odeApoptosisFixed.jl\")\n",
    "stringSyms=syms\n",
    "y0=zeros(length(syms))\n",
    "y0=initConditionsApop(y0,syms)\n",
    "syms2=Symbol.(syms)\n",
    "f=ODEFunction(odeFile!,syms=syms2)\n",
    "\n",
    "#steady state phase\n",
    "print(\"Have errors with SS code so just using a long TC instead\\n\")\n",
    "# prob=ODEProblem(f,y0,(0.0,maxTimeSS))\n",
    "prob=ODEProblem(f,y0,(0.0,10000.0),abstol=1e-16,reltol=1e-16)\n",
    "solss=solve(prob,saveat=100.0,progress = true,isoutofdomain=(y,p,t)->any(x->x<0,y))\n",
    "# solss=solve(prob,saveat=10.0,progress = true)\n",
    "\n",
    "#save the last bit of the SS solution\n",
    "dfss = DataFrame(solss[end-100:end],:auto)\n",
    "#add the variable names and save to a file\n",
    "insertcols!(dfss, 1, :names=>syms2)\n",
    "mkpath(\"outputFiles/apoptosis/\")\n",
    "CSV.write(\"outputFiles/apoptosis/SS_RIVA.csv\",dfss);\n",
    "print(\"Steady state found\\n\")"
   ]
  },
  {
   "cell_type": "code",
   "execution_count": 15,
   "metadata": {},
   "outputs": [
    {
     "data": {
      "text/plain": [
       "h (generic function with 1 method)"
      ]
     },
     "execution_count": 15,
     "metadata": {},
     "output_type": "execute_result"
    }
   ],
   "source": [
    "#dynamic phase, use SS solution as initial conditions\n",
    "y0=vec(convert(Array, dfss[:,end]))\n",
    "h(p,t)=y0"
   ]
  },
  {
   "cell_type": "code",
   "execution_count": 16,
   "metadata": {},
   "outputs": [
    {
     "data": {
      "text/plain": [
       "0.8"
      ]
     },
     "execution_count": 16,
     "metadata": {},
     "output_type": "execute_result"
    }
   ],
   "source": [
    "y0[findfirst(isequal(\"Inhib_eff_Bcl2\"),syms)]=0.8"
   ]
  },
  {
   "cell_type": "code",
   "execution_count": 17,
   "metadata": {},
   "outputs": [
    {
     "data": {
      "text/plain": [
       "\"outputFiles/apoptosis/TC_RIVA01_Bid_Bcl2_08.csv\""
      ]
     },
     "execution_count": 17,
     "metadata": {},
     "output_type": "execute_result"
    }
   ],
   "source": [
    "newInit=y0\n",
    "newInit[1]=y0[1]+0.01\n",
    "\n",
    "#we might use this later to remove Bcl2 survival signal\n",
    "#newInit[end]=2.77\n",
    "prob=ODEProblem(f,newInit,(0.0,maxTimeTC),abstol=1e-16,reltol=1e-16,maxiters=1e9)\n",
    "sol_Bcl2_08=solve(prob,saveat=1.0,progress = true)\n",
    "\n",
    "#lets save this result in a csv file\n",
    "df=DataFrame(sol_Bcl2_08)\n",
    "# insertcols!(df, 1, :names=>syms)\n",
    "CSV.write(\"outputFiles/apoptosis/TC_RIVA_Bcl2_08.csv\",df)"
   ]
  },
  {
   "cell_type": "markdown",
   "metadata": {},
   "source": [
    "### BclxL inhibition"
   ]
  },
  {
   "cell_type": "code",
   "execution_count": 18,
   "metadata": {},
   "outputs": [
    {
     "name": "stdout",
     "output_type": "stream",
     "text": [
      "Have errors with SS code so just using a long TC instead\n",
      "Steady state found\n"
     ]
    }
   ],
   "source": [
    "include(\"modelFiles/RIVA/odeApoptosisFixed.jl\")\n",
    "stringSyms=syms\n",
    "y0=zeros(length(syms))\n",
    "y0=initConditionsApop(y0,syms)\n",
    "syms2=Symbol.(syms)\n",
    "f=ODEFunction(odeFile!,syms=syms2)\n",
    "\n",
    "#steady state phase\n",
    "print(\"Have errors with SS code so just using a long TC instead\\n\")\n",
    "# prob=ODEProblem(f,y0,(0.0,maxTimeSS))\n",
    "prob=ODEProblem(f,y0,(0.0,10000.0),abstol=1e-16,reltol=1e-16)\n",
    "solss=solve(prob,saveat=100.0,progress = true,isoutofdomain=(y,p,t)->any(x->x<0,y))\n",
    "# solss=solve(prob,saveat=10.0,progress = true)\n",
    "\n",
    "#save the last bit of the SS solution\n",
    "dfss = DataFrame(solss[end-100:end],:auto)\n",
    "#add the variable names and save to a file\n",
    "insertcols!(dfss, 1, :names=>syms2)\n",
    "mkpath(\"outputFiles/apoptosis/\")\n",
    "CSV.write(\"outputFiles/apoptosis/SS_RIVA_IE.csv\",dfss);\n",
    "print(\"Steady state found\\n\")"
   ]
  },
  {
   "cell_type": "code",
   "execution_count": 19,
   "metadata": {},
   "outputs": [
    {
     "data": {
      "text/plain": [
       "h (generic function with 1 method)"
      ]
     },
     "execution_count": 19,
     "metadata": {},
     "output_type": "execute_result"
    }
   ],
   "source": [
    "#dynamic phase, use SS solution as initial conditions\n",
    "y0=vec(convert(Array, dfss[:,end]))\n",
    "h(p,t)=y0"
   ]
  },
  {
   "cell_type": "code",
   "execution_count": 20,
   "metadata": {},
   "outputs": [
    {
     "data": {
      "text/plain": [
       "0.5"
      ]
     },
     "execution_count": 20,
     "metadata": {},
     "output_type": "execute_result"
    }
   ],
   "source": [
    "y0[findfirst(isequal(\"Inhib_eff_BclxL\"),syms)]=0.5"
   ]
  },
  {
   "cell_type": "code",
   "execution_count": 21,
   "metadata": {},
   "outputs": [
    {
     "data": {
      "text/plain": [
       "\"outputFiles/apoptosis/TC_RIVA01_Bid_BclxL_05.csv\""
      ]
     },
     "execution_count": 21,
     "metadata": {},
     "output_type": "execute_result"
    }
   ],
   "source": [
    "newInit=y0\n",
    "newInit[1]=y0[1]+0.01\n",
    "\n",
    "#we might use this later to remove Bcl2 survival signal\n",
    "#newInit[end]=2.77\n",
    "prob=ODEProblem(f,newInit,(0.0,maxTimeTC),abstol=1e-16,reltol=1e-16,maxiters=1e9)\n",
    "sol_BclxL_05=solve(prob,saveat=1.0,progress = true)\n",
    "\n",
    "#lets save this result in a csv file\n",
    "df=DataFrame(sol_BclxL_05)\n",
    "# insertcols!(df, 1, :names=>syms)\n",
    "CSV.write(\"outputFiles/apoptosis/TC_RIVA_BclxL_05.csv\",df)"
   ]
  },
  {
   "cell_type": "code",
   "execution_count": 22,
   "metadata": {},
   "outputs": [
    {
     "name": "stdout",
     "output_type": "stream",
     "text": [
      "Have errors with SS code so just using a long TC instead\n",
      "Steady state found\n"
     ]
    }
   ],
   "source": [
    "include(\"modelFiles/RIVA/odeApoptosisFixed.jl\")\n",
    "stringSyms=syms\n",
    "y0=zeros(length(syms))\n",
    "y0=initConditionsApop(y0,syms)\n",
    "syms2=Symbol.(syms)\n",
    "f=ODEFunction(odeFile!,syms=syms2)\n",
    "\n",
    "#steady state phase\n",
    "print(\"Have errors with SS code so just using a long TC instead\\n\")\n",
    "# prob=ODEProblem(f,y0,(0.0,maxTimeSS))\n",
    "prob=ODEProblem(f,y0,(0.0,10000.0),abstol=1e-16,reltol=1e-16)\n",
    "solss=solve(prob,saveat=100.0,progress = true,isoutofdomain=(y,p,t)->any(x->x<0,y))\n",
    "# solss=solve(prob,saveat=10.0,progress = true)\n",
    "\n",
    "#save the last bit of the SS solution\n",
    "dfss = DataFrame(solss[end-100:end],:auto)\n",
    "#add the variable names and save to a file\n",
    "insertcols!(dfss, 1, :names=>syms2)\n",
    "mkpath(\"outputFiles/apoptosis/\")\n",
    "CSV.write(\"outputFiles/apoptosis/SS_RIVA.csv\",dfss);\n",
    "print(\"Steady state found\\n\")"
   ]
  },
  {
   "cell_type": "code",
   "execution_count": 23,
   "metadata": {},
   "outputs": [
    {
     "data": {
      "text/plain": [
       "h (generic function with 1 method)"
      ]
     },
     "execution_count": 23,
     "metadata": {},
     "output_type": "execute_result"
    }
   ],
   "source": [
    "#dynamic phase, use SS solution as initial conditions\n",
    "y0=vec(convert(Array, dfss[:,end]))\n",
    "h(p,t)=y0"
   ]
  },
  {
   "cell_type": "code",
   "execution_count": 24,
   "metadata": {},
   "outputs": [
    {
     "data": {
      "text/plain": [
       "0.8"
      ]
     },
     "execution_count": 24,
     "metadata": {},
     "output_type": "execute_result"
    }
   ],
   "source": [
    "y0[findfirst(isequal(\"Inhib_eff_BclxL\"),syms)]=0.8"
   ]
  },
  {
   "cell_type": "code",
   "execution_count": 25,
   "metadata": {},
   "outputs": [
    {
     "data": {
      "text/plain": [
       "\"outputFiles/apoptosis/TC_RIVA01_Bid_BclxL_08.csv\""
      ]
     },
     "execution_count": 25,
     "metadata": {},
     "output_type": "execute_result"
    }
   ],
   "source": [
    "newInit=y0\n",
    "newInit[1]=y0[1]+0.01\n",
    "\n",
    "#we might use this later to remove Bcl2 survival signal\n",
    "#newInit[end]=2.77\n",
    "prob=ODEProblem(f,newInit,(0.0,maxTimeTC),abstol=1e-16,reltol=1e-16,maxiters=1e9)\n",
    "sol_BclxL_08=solve(prob,saveat=1.0,progress = true)\n",
    "\n",
    "#lets save this result in a csv file\n",
    "df=DataFrame(sol_BclxL_08)\n",
    "# insertcols!(df, 1, :names=>syms)\n",
    "CSV.write(\"outputFiles/apoptosis/TC_RIVA_BclxL_08.csv\",df)"
   ]
  },
  {
   "cell_type": "markdown",
   "metadata": {},
   "source": [
    "### Mcl1 inhibition"
   ]
  },
  {
   "cell_type": "code",
   "execution_count": 26,
   "metadata": {},
   "outputs": [
    {
     "name": "stdout",
     "output_type": "stream",
     "text": [
      "Have errors with SS code so just using a long TC instead\n",
      "Steady state found\n"
     ]
    }
   ],
   "source": [
    "include(\"modelFiles/RIVA/odeApoptosisFixed.jl\")\n",
    "stringSyms=syms\n",
    "y0=zeros(length(syms))\n",
    "y0=initConditionsApop(y0,syms)\n",
    "syms2=Symbol.(syms)\n",
    "f=ODEFunction(odeFile!,syms=syms2)\n",
    "\n",
    "#steady state phase\n",
    "print(\"Have errors with SS code so just using a long TC instead\\n\")\n",
    "# prob=ODEProblem(f,y0,(0.0,maxTimeSS))\n",
    "prob=ODEProblem(f,y0,(0.0,10000.0),abstol=1e-16,reltol=1e-16)\n",
    "solss=solve(prob,saveat=100.0,progress = true,isoutofdomain=(y,p,t)->any(x->x<0,y))\n",
    "# solss=solve(prob,saveat=10.0,progress = true)\n",
    "\n",
    "#save the last bit of the SS solution\n",
    "dfss = DataFrame(solss[end-100:end],:auto)\n",
    "#add the variable names and save to a file\n",
    "insertcols!(dfss, 1, :names=>syms2)\n",
    "mkpath(\"outputFiles/apoptosis/\")\n",
    "CSV.write(\"outputFiles/apoptosis/SS_RIVA.csv\",dfss);\n",
    "print(\"Steady state found\\n\")"
   ]
  },
  {
   "cell_type": "code",
   "execution_count": 27,
   "metadata": {},
   "outputs": [
    {
     "data": {
      "text/plain": [
       "h (generic function with 1 method)"
      ]
     },
     "execution_count": 27,
     "metadata": {},
     "output_type": "execute_result"
    }
   ],
   "source": [
    "#dynamic phase, use SS solution as initial conditions\n",
    "y0=vec(convert(Array, dfss[:,end]))\n",
    "h(p,t)=y0"
   ]
  },
  {
   "cell_type": "code",
   "execution_count": 28,
   "metadata": {},
   "outputs": [
    {
     "data": {
      "text/plain": [
       "0.5"
      ]
     },
     "execution_count": 28,
     "metadata": {},
     "output_type": "execute_result"
    }
   ],
   "source": [
    "y0[findfirst(isequal(\"Inhib_eff_Mcl1\"),syms)]=0.5"
   ]
  },
  {
   "cell_type": "code",
   "execution_count": 29,
   "metadata": {},
   "outputs": [
    {
     "data": {
      "text/plain": [
       "\"outputFiles/apoptosis/TC_RIVA01_Bid_Mcl1_05.csv\""
      ]
     },
     "execution_count": 29,
     "metadata": {},
     "output_type": "execute_result"
    }
   ],
   "source": [
    "newInit=y0\n",
    "newInit[1]=y0[1]+0.01\n",
    "\n",
    "#we might use this later to remove Bcl2 survival signal\n",
    "#newInit[end]=2.77\n",
    "prob=ODEProblem(f,newInit,(0.0,maxTimeTC),abstol=1e-16,reltol=1e-16,maxiters=1e9)\n",
    "sol_Mcl1_05=solve(prob,saveat=1.0,progress = true)\n",
    "\n",
    "#lets save this result in a csv file\n",
    "df=DataFrame(sol_Mcl1_05)\n",
    "# insertcols!(df, 1, :names=>syms)\n",
    "CSV.write(\"outputFiles/apoptosis/TC_RIVA_Mcl1_05.csv\",df)"
   ]
  },
  {
   "cell_type": "code",
   "execution_count": 30,
   "metadata": {},
   "outputs": [
    {
     "name": "stdout",
     "output_type": "stream",
     "text": [
      "Have errors with SS code so just using a long TC instead\n",
      "Steady state found\n"
     ]
    }
   ],
   "source": [
    "include(\"modelFiles/RIVA/odeApoptosisFixed.jl\")\n",
    "stringSyms=syms\n",
    "y0=zeros(length(syms))\n",
    "y0=initConditionsApop(y0,syms)\n",
    "syms2=Symbol.(syms)\n",
    "f=ODEFunction(odeFile!,syms=syms2)\n",
    "\n",
    "#steady state phase\n",
    "print(\"Have errors with SS code so just using a long TC instead\\n\")\n",
    "# prob=ODEProblem(f,y0,(0.0,maxTimeSS))\n",
    "prob=ODEProblem(f,y0,(0.0,10000.0),abstol=1e-16,reltol=1e-16)\n",
    "solss=solve(prob,saveat=100.0,progress = true,isoutofdomain=(y,p,t)->any(x->x<0,y))\n",
    "# solss=solve(prob,saveat=10.0,progress = true)\n",
    "\n",
    "#save the last bit of the SS solution\n",
    "dfss = DataFrame(solss[end-100:end],:auto)\n",
    "#add the variable names and save to a file\n",
    "insertcols!(dfss, 1, :names=>syms2)\n",
    "mkpath(\"outputFiles/apoptosis/\")\n",
    "CSV.write(\"outputFiles/apoptosis/SS_RIVA.csv\",dfss);\n",
    "print(\"Steady state found\\n\")"
   ]
  },
  {
   "cell_type": "code",
   "execution_count": 31,
   "metadata": {},
   "outputs": [
    {
     "data": {
      "text/plain": [
       "h (generic function with 1 method)"
      ]
     },
     "execution_count": 31,
     "metadata": {},
     "output_type": "execute_result"
    }
   ],
   "source": [
    "#dynamic phase, use SS solution as initial conditions\n",
    "y0=vec(convert(Array, dfss[:,end]))\n",
    "h(p,t)=y0"
   ]
  },
  {
   "cell_type": "code",
   "execution_count": 32,
   "metadata": {},
   "outputs": [
    {
     "data": {
      "text/plain": [
       "0.8"
      ]
     },
     "execution_count": 32,
     "metadata": {},
     "output_type": "execute_result"
    }
   ],
   "source": [
    "y0[findfirst(isequal(\"Inhib_eff_Mcl1\"),syms)]=0.8"
   ]
  },
  {
   "cell_type": "code",
   "execution_count": 33,
   "metadata": {},
   "outputs": [
    {
     "data": {
      "text/plain": [
       "\"outputFiles/apoptosis/TC_RIVA01_Bid_Mcl1_08.csv\""
      ]
     },
     "execution_count": 33,
     "metadata": {},
     "output_type": "execute_result"
    }
   ],
   "source": [
    "newInit=y0\n",
    "newInit[1]=y0[1]+0.01\n",
    "\n",
    "#we might use this later to remove Bcl2 survival signal\n",
    "#newInit[end]=2.77\n",
    "prob=ODEProblem(f,newInit,(0.0,maxTimeTC),abstol=1e-16,reltol=1e-16,maxiters=1e9)\n",
    "sol_Mcl1_08=solve(prob,saveat=1.0,progress = true)\n",
    "\n",
    "#lets save this result in a csv file\n",
    "df=DataFrame(sol_Mcl1_08)\n",
    "# insertcols!(df, 1, :names=>syms)\n",
    "CSV.write(\"outputFiles/apoptosis/TC_RIVA_Mcl1_08.csv\",df)"
   ]
  },
  {
   "cell_type": "code",
   "execution_count": null,
   "metadata": {},
   "outputs": [],
   "source": []
  },
  {
   "cell_type": "code",
   "execution_count": null,
   "metadata": {},
   "outputs": [],
   "source": [
    "AMito=findfirst(isequal(\"AMito\"),syms)\n",
    "plot(sol[AMito,:],lw=2,label=\"WT\")"
   ]
  },
  {
   "cell_type": "code",
   "execution_count": 34,
   "metadata": {},
   "outputs": [
    {
     "data": {
      "image/png": "[encoded data removed]"
     },
     "execution_count": 34,
     "metadata": {},
     "output_type": "execute_result"
    }
   ],
   "source": [
    "AMito=findfirst(isequal(\"AMito\"),syms)\n",
    "p1=(plot(sol[AMito,:]./sol[AMito,:],lw=2,linecolor=\"Black\"))#,label=\"WT\"))\n",
    "plot!(sol_Bcl2_05[AMito,:]./sol[AMito,:],lw=2,linecolor=\"Olive Drab\")#,label=\"RIVA+ABT-199 (50%)\")\n",
    "plot!(sol_Bcl2_08[AMito,:]./sol[AMito,:],lw=2,linecolor=\"Tomato\")#,label=\"RIVA+ABT-199 (20%)\")\n",
    "plot!(sol_BclxL_05[AMito,:]./sol[AMito,:],lw=2,linecolor=\"Light Sky Blue\")#,label=\"RIVA+A1331852 (50%)\")\n",
    "plot!(sol_BclxL_08[AMito,:]./sol[AMito,:],lw=2,linecolor=\"Orchid\")#,label=\"RIVA+A1331852 (20%)\")\n",
    "plot!(sol_Mcl1_05[AMito,:]./sol[AMito,:],lw=2,linecolor=\"Slate Gray\")#,label=\"RIVA+S63845 (50%)\")\n",
    "plot!(sol_Mcl1_08[AMito,:]./sol[AMito,:],lw=2,linecolor=\"Orange\")#,label=\"RIVA+S63845 (20%)\")\n",
    "plot!(#legend=:outerright,\n",
    "    size=(600,400),margin=5Plots.mm)\n",
    "s=string.(collect(0:8:24))\n",
    "plot!(xticks = (0:(60*8):(24*60),s), title = \"RIVA\", legend = false, #ylabel=\"MOMP (Fold change)\",xlabel=\"time h\", \n",
    "    xtickfontsize=14,ytickfontsize=14,xguidefontsize=18,yguidefontsize=18,#legendfontsize=10,\n",
    "    fmt = :png)\n",
    "# ,yaxis=:log\n",
    "# png(\"outputFiles/apoptosis/RIVA_MOMP\")"
   ]
  },
  {
   "cell_type": "code",
   "execution_count": null,
   "metadata": {},
   "outputs": [],
   "source": []
  },
  {
   "cell_type": "markdown",
   "metadata": {},
   "source": [
    "# U-2932"
   ]
  },
  {
   "cell_type": "code",
   "execution_count": 36,
   "metadata": {},
   "outputs": [
    {
     "name": "stdout",
     "output_type": "stream",
     "text": [
      "Opening moduleDefinitionFiles/Apop_Bcl2_U2932/rateLaws.csv as rate law file\n",
      "Opening moduleDefinitionFiles/Apop_Bcl2_U2932/parameters.csv as parameters file\n",
      "Opening moduleDefinitionFiles/Apop_Bcl2_U2932/reactions.csv as reactions file\n"
     ]
    }
   ],
   "source": [
    "#identify the three CSV sheets that describe the model\n",
    "reactionsFile=\"moduleDefinitionFiles/U2932/reactions.csv\"\n",
    "parametersFile=\"moduleDefinitionFiles/U2932/parameters.csv\"\n",
    "rateLawsFile=\"moduleDefinitionFiles/U2932/rateLaws.csv\"\n",
    "\n",
    "#build a command to execute csv2julia\n",
    "location=[locationOfCSV2Julia]\n",
    "arguments=[reactionsFile, parametersFile, rateLawsFile,\"odeApoptosis.jl\"]\n",
    "cmd=`python3 $locationOfCSV2Julia $arguments`\n",
    "\n",
    "#lets run csv2julia (requires python to be installed)\n",
    "run(cmd)\n",
    "\n",
    "#pop the outputs in a modelFiles folder\n",
    "mkpath(\"modelFiles/U2932/\")\n",
    "mv(\"odeApoptosis.jl\",\"modelFiles/U2932/odeApoptosis.jl\", force=true)\n",
    "mv(\"variableNames.jl\",\"modelFiles/U2932/variableNamesApoptosis.jl\", force=true);"
   ]
  },
  {
   "cell_type": "code",
   "execution_count": 37,
   "metadata": {},
   "outputs": [
    {
     "data": {
      "text/plain": [
       "initConditionsApop (generic function with 1 method)"
      ]
     },
     "execution_count": 37,
     "metadata": {},
     "output_type": "execute_result"
    }
   ],
   "source": [
    "function initConditionsApop(y0,syms)\n",
    "   #units: M\n",
    "   #source: the supplement of Albeck et al 2008 PLOS Biology\n",
    "   y0[findfirst(isequal(\"DIS\"),syms)]=0\n",
    "   y0[findfirst(isequal(\"Bid\"),syms)]=60000\n",
    "   y0[findfirst(isequal(\"BclxLc\"),syms)]=1000\n",
    "   y0[findfirst(isequal(\"Bax\"),syms)]=5200\n",
    "   y0[findfirst(isequal(\"Mito\"),syms)]=500000\n",
    "   #this is new and will be replaced by cRel control in multiscale modeling\n",
    "   y0[findfirst(isequal(\"Bcl2t\"),syms)]=92\n",
    "#    y0[findfirst(isequal(\"Bim\"),syms)]=6000\n",
    "   y0[findfirst(isequal(\"Bim\"),syms)]=6800 \n",
    "   y0[findfirst(isequal(\"Bcl2c\"),syms)]=20000\n",
    "   y0[findfirst(isequal(\"Mcl1c\"),syms)]=10200 \n",
    "   y0[findfirst(isequal(\"Puma\"),syms)]=2200\n",
    "   y0[findfirst(isequal(\"Noxa\"),syms)]=15800\n",
    "   y0[findfirst(isequal(\"MBak\"),syms)]=3400 \n",
    "   y0[findfirst(isequal(\"Inhib_eff_Bcl2\"),syms)]=1\n",
    "   y0[findfirst(isequal(\"Inhib_eff_BclxL\"),syms)]=1\n",
    "   y0[findfirst(isequal(\"Inhib_eff_Mcl1\"),syms)]=1 \n",
    "\n",
    "   return y0\n",
    "end"
   ]
  },
  {
   "cell_type": "code",
   "execution_count": 38,
   "metadata": {},
   "outputs": [],
   "source": [
    "include(\"modelFiles/U2932/odeApoptosis.jl\")\n",
    "include(\"modelFiles/U2932/variableNamesApoptosis.jl\")\n",
    "p=1\n",
    "maxTimeSS=10000.0\n",
    "maxTimeTC=24*60.0\n",
    "params=1;"
   ]
  },
  {
   "cell_type": "code",
   "execution_count": 39,
   "metadata": {},
   "outputs": [],
   "source": [
    "include(\"utilityFunctions/fixSpecies.jl\")\n",
    "fixSpecies(\"modelFiles/U2932/odeApoptosis.jl\",\"modelFiles/U2932/odeApoptosisFixed.jl\",1)"
   ]
  },
  {
   "cell_type": "code",
   "execution_count": 40,
   "metadata": {},
   "outputs": [
    {
     "name": "stdout",
     "output_type": "stream",
     "text": [
      "Have errors with SS code so just using a long TC instead\n",
      "Steady state found\n"
     ]
    }
   ],
   "source": [
    "include(\"modelFiles/U2932/odeApoptosisFixed.jl\")\n",
    "stringSyms=syms\n",
    "y0=zeros(length(syms))\n",
    "y0=initConditionsApop(y0,syms)\n",
    "syms2=Symbol.(syms)\n",
    "f=ODEFunction(odeFile!,syms=syms2)\n",
    "\n",
    "#steady state phase\n",
    "print(\"Have errors with SS code so just using a long TC instead\\n\")\n",
    "# prob=ODEProblem(f,y0,(0.0,maxTimeSS))\n",
    "prob=ODEProblem(f,y0,(0.0,10000.0),abstol=1e-16,reltol=1e-16)\n",
    "solss=solve(prob,saveat=100.0,progress = true,isoutofdomain=(y,p,t)->any(x->x<0,y))\n",
    "# solss=solve(prob,saveat=100.0,progress = true)\n",
    "\n",
    "#save the last bit of the SS solution\n",
    "dfss = DataFrame(solss[end-100:end],:auto)\n",
    "#add the variable names and save to a file\n",
    "insertcols!(dfss, 1, :names=>syms2)\n",
    "mkpath(\"outputFiles/apoptosis/\")\n",
    "CSV.write(\"outputFiles/apoptosis/SS_U2932.csv\",dfss);\n",
    "print(\"Steady state found\\n\")"
   ]
  },
  {
   "cell_type": "code",
   "execution_count": 41,
   "metadata": {},
   "outputs": [
    {
     "data": {
      "text/plain": [
       "h (generic function with 1 method)"
      ]
     },
     "execution_count": 41,
     "metadata": {},
     "output_type": "execute_result"
    }
   ],
   "source": [
    "#dynamic phase, use SS solution as initial conditions\n",
    "y0=vec(convert(Array, dfss[:,end]))\n",
    "h(p,t)=y0"
   ]
  },
  {
   "cell_type": "code",
   "execution_count": null,
   "metadata": {},
   "outputs": [],
   "source": []
  },
  {
   "cell_type": "code",
   "execution_count": 42,
   "metadata": {},
   "outputs": [
    {
     "data": {
      "text/plain": [
       "\"outputFiles/apoptosis/timecourse_U293201_Bid.csv\""
      ]
     },
     "execution_count": 42,
     "metadata": {},
     "output_type": "execute_result"
    }
   ],
   "source": [
    "newInit=y0\n",
    "newInit[1]=y0[1]+1000\n",
    "\n",
    "#we might use this later to remove Bcl2 survival signal\n",
    "#newInit[end]=2.77\n",
    "prob=ODEProblem(f,newInit,(0.0,maxTimeTC),abstol=1e-16,reltol=1e-16,maxiters=1e9)\n",
    "sol=solve(prob,saveat=1.0,progress = true)\n",
    "\n",
    "#lets save this result in a csv file\n",
    "df=DataFrame(sol)\n",
    "# insertcols!(df, 1, :names=>syms)\n",
    "CSV.write(\"outputFiles/apoptosis/TC_U2932.csv\",df)"
   ]
  },
  {
   "cell_type": "code",
   "execution_count": null,
   "metadata": {},
   "outputs": [],
   "source": []
  },
  {
   "cell_type": "markdown",
   "metadata": {},
   "source": [
    "### Bcl2 inhibition"
   ]
  },
  {
   "cell_type": "code",
   "execution_count": 43,
   "metadata": {},
   "outputs": [
    {
     "name": "stdout",
     "output_type": "stream",
     "text": [
      "Have errors with SS code so just using a long TC instead\n",
      "Steady state found\n"
     ]
    }
   ],
   "source": [
    "include(\"modelFiles/U2932/odeApoptosisFixed.jl\")\n",
    "stringSyms=syms\n",
    "y0=zeros(length(syms))\n",
    "y0=initConditionsApop(y0,syms)\n",
    "syms2=Symbol.(syms)\n",
    "f=ODEFunction(odeFile!,syms=syms2)\n",
    "\n",
    "#steady state phase\n",
    "print(\"Have errors with SS code so just using a long TC instead\\n\")\n",
    "# prob=ODEProblem(f,y0,(0.0,maxTimeSS))\n",
    "prob=ODEProblem(f,y0,(0.0,10000.0),abstol=1e-16,reltol=1e-16)\n",
    "solss=solve(prob,saveat=100.0,progress = true,isoutofdomain=(y,p,t)->any(x->x<0,y))\n",
    "# solss=solve(prob,saveat=100.0,progress = true)\n",
    "\n",
    "#save the last bit of the SS solution\n",
    "dfss = DataFrame(solss[end-100:end],:auto)\n",
    "#add the variable names and save to a file\n",
    "insertcols!(dfss, 1, :names=>syms2)\n",
    "mkpath(\"outputFiles/apoptosis/\")\n",
    "CSV.write(\"outputFiles/apoptosis/SS_U2932.csv\",dfss);\n",
    "print(\"Steady state found\\n\")"
   ]
  },
  {
   "cell_type": "code",
   "execution_count": 44,
   "metadata": {},
   "outputs": [
    {
     "data": {
      "text/plain": [
       "h (generic function with 1 method)"
      ]
     },
     "execution_count": 44,
     "metadata": {},
     "output_type": "execute_result"
    }
   ],
   "source": [
    "#dynamic phase, use SS solution as initial conditions\n",
    "y0=vec(convert(Array, dfss[:,end]))\n",
    "h(p,t)=y0"
   ]
  },
  {
   "cell_type": "code",
   "execution_count": 45,
   "metadata": {},
   "outputs": [
    {
     "data": {
      "text/plain": [
       "0.5"
      ]
     },
     "execution_count": 45,
     "metadata": {},
     "output_type": "execute_result"
    }
   ],
   "source": [
    "y0[findfirst(isequal(\"Inhib_eff_Bcl2\"),syms)]=0.5"
   ]
  },
  {
   "cell_type": "code",
   "execution_count": 46,
   "metadata": {},
   "outputs": [
    {
     "data": {
      "text/plain": [
       "\"outputFiles/apoptosis/TC_U293201_Bid_Bcl2_05.csv\""
      ]
     },
     "execution_count": 46,
     "metadata": {},
     "output_type": "execute_result"
    }
   ],
   "source": [
    "newInit=y0\n",
    "newInit[1]=y0[1]+1000\n",
    "\n",
    "#we might use this later to remove Bcl2 survival signal\n",
    "#newInit[end]=2.77\n",
    "prob=ODEProblem(f,newInit,(0.0,maxTimeTC),abstol=1e-16,reltol=1e-16,maxiters=1e9)\n",
    "sol_Bcl2_05=solve(prob,saveat=1.0,progress = true)\n",
    "\n",
    "#lets save this result in a csv file\n",
    "df=DataFrame(sol_Bcl2_05)\n",
    "# insertcols!(df, 1, :names=>syms)\n",
    "CSV.write(\"outputFiles/apoptosis/TC_U2932_Bcl2_05.csv\",df)"
   ]
  },
  {
   "cell_type": "code",
   "execution_count": null,
   "metadata": {},
   "outputs": [],
   "source": []
  },
  {
   "cell_type": "code",
   "execution_count": 47,
   "metadata": {},
   "outputs": [
    {
     "name": "stdout",
     "output_type": "stream",
     "text": [
      "Have errors with SS code so just using a long TC instead\n",
      "Steady state found\n"
     ]
    }
   ],
   "source": [
    "include(\"modelFiles/U2932/odeApoptosisFixed.jl\")\n",
    "stringSyms=syms\n",
    "y0=zeros(length(syms))\n",
    "y0=initConditionsApop(y0,syms)\n",
    "syms2=Symbol.(syms)\n",
    "f=ODEFunction(odeFile!,syms=syms2)\n",
    "\n",
    "#steady state phase\n",
    "print(\"Have errors with SS code so just using a long TC instead\\n\")\n",
    "# prob=ODEProblem(f,y0,(0.0,maxTimeSS))\n",
    "prob=ODEProblem(f,y0,(0.0,10000.0),abstol=1e-16,reltol=1e-16)\n",
    "solss=solve(prob,saveat=100.0,progress = true,isoutofdomain=(y,p,t)->any(x->x<0,y))\n",
    "# solss=solve(prob,saveat=100.0,progress = true)\n",
    "\n",
    "#save the last bit of the SS solution\n",
    "dfss = DataFrame(solss[end-100:end],:auto)\n",
    "#add the variable names and save to a file\n",
    "insertcols!(dfss, 1, :names=>syms2)\n",
    "mkpath(\"outputFiles/apoptosis/\")\n",
    "CSV.write(\"outputFiles/apoptosis/SS_U2932.csv\",dfss);\n",
    "print(\"Steady state found\\n\")"
   ]
  },
  {
   "cell_type": "code",
   "execution_count": 48,
   "metadata": {},
   "outputs": [
    {
     "data": {
      "text/plain": [
       "h (generic function with 1 method)"
      ]
     },
     "execution_count": 48,
     "metadata": {},
     "output_type": "execute_result"
    }
   ],
   "source": [
    "#dynamic phase, use SS solution as initial conditions\n",
    "y0=vec(convert(Array, dfss[:,end]))\n",
    "h(p,t)=y0"
   ]
  },
  {
   "cell_type": "code",
   "execution_count": 49,
   "metadata": {},
   "outputs": [
    {
     "data": {
      "text/plain": [
       "0.8"
      ]
     },
     "execution_count": 49,
     "metadata": {},
     "output_type": "execute_result"
    }
   ],
   "source": [
    "y0[findfirst(isequal(\"Inhib_eff_Bcl2\"),syms)]=0.8"
   ]
  },
  {
   "cell_type": "code",
   "execution_count": 50,
   "metadata": {},
   "outputs": [
    {
     "data": {
      "text/plain": [
       "\"outputFiles/apoptosis/TC_U293201_Bid_Bcl2_08.csv\""
      ]
     },
     "execution_count": 50,
     "metadata": {},
     "output_type": "execute_result"
    }
   ],
   "source": [
    "newInit=y0\n",
    "newInit[1]=y0[1]+1000\n",
    "\n",
    "#we might use this later to remove Bcl2 survival signal\n",
    "#newInit[end]=2.77\n",
    "prob=ODEProblem(f,newInit,(0.0,maxTimeTC),abstol=1e-16,reltol=1e-16,maxiters=1e9)\n",
    "sol_Bcl2_08=solve(prob,saveat=1.0,progress = true)\n",
    "\n",
    "#lets save this result in a csv file\n",
    "df=DataFrame(sol_Bcl2_08)\n",
    "# insertcols!(df, 1, :names=>syms)\n",
    "CSV.write(\"outputFiles/apoptosis/TC_U2932_Bcl2_08.csv\",df)"
   ]
  },
  {
   "cell_type": "markdown",
   "metadata": {},
   "source": [
    "### BclxL inhibition"
   ]
  },
  {
   "cell_type": "code",
   "execution_count": 51,
   "metadata": {},
   "outputs": [
    {
     "name": "stdout",
     "output_type": "stream",
     "text": [
      "Have errors with SS code so just using a long TC instead\n",
      "Steady state found\n"
     ]
    }
   ],
   "source": [
    "include(\"modelFiles/U2932/odeApoptosisFixed.jl\")\n",
    "stringSyms=syms\n",
    "y0=zeros(length(syms))\n",
    "y0=initConditionsApop(y0,syms)\n",
    "syms2=Symbol.(syms)\n",
    "f=ODEFunction(odeFile!,syms=syms2)\n",
    "\n",
    "#steady state phase\n",
    "print(\"Have errors with SS code so just using a long TC instead\\n\")\n",
    "# prob=ODEProblem(f,y0,(0.0,maxTimeSS))\n",
    "prob=ODEProblem(f,y0,(0.0,10000.0),abstol=1e-16,reltol=1e-16)\n",
    "solss=solve(prob,saveat=100.0,progress = true,isoutofdomain=(y,p,t)->any(x->x<0,y))\n",
    "# solss=solve(prob,saveat=100.0,progress = true)\n",
    "\n",
    "#save the last bit of the SS solution\n",
    "dfss = DataFrame(solss[end-100:end],:auto)\n",
    "#add the variable names and save to a file\n",
    "insertcols!(dfss, 1, :names=>syms2)\n",
    "mkpath(\"outputFiles/apoptosis/\")\n",
    "CSV.write(\"outputFiles/apoptosis/SS_U2932.csv\",dfss);\n",
    "print(\"Steady state found\\n\")"
   ]
  },
  {
   "cell_type": "code",
   "execution_count": 52,
   "metadata": {},
   "outputs": [
    {
     "data": {
      "text/plain": [
       "h (generic function with 1 method)"
      ]
     },
     "execution_count": 52,
     "metadata": {},
     "output_type": "execute_result"
    }
   ],
   "source": [
    "#dynamic phase, use SS solution as initial conditions\n",
    "y0=vec(convert(Array, dfss[:,end]))\n",
    "h(p,t)=y0"
   ]
  },
  {
   "cell_type": "code",
   "execution_count": 53,
   "metadata": {},
   "outputs": [
    {
     "data": {
      "text/plain": [
       "0.5"
      ]
     },
     "execution_count": 53,
     "metadata": {},
     "output_type": "execute_result"
    }
   ],
   "source": [
    "y0[findfirst(isequal(\"Inhib_eff_BclxL\"),syms)]=0.5"
   ]
  },
  {
   "cell_type": "code",
   "execution_count": 54,
   "metadata": {},
   "outputs": [
    {
     "data": {
      "text/plain": [
       "\"outputFiles/apoptosis/TC_U293201_Bid_BclxL_05.csv\""
      ]
     },
     "execution_count": 54,
     "metadata": {},
     "output_type": "execute_result"
    }
   ],
   "source": [
    "newInit=y0\n",
    "newInit[1]=y0[1]+1000\n",
    "\n",
    "#we might use this later to remove Bcl2 survival signal\n",
    "#newInit[end]=2.77\n",
    "prob=ODEProblem(f,newInit,(0.0,maxTimeTC),abstol=1e-16,reltol=1e-16,maxiters=1e9)\n",
    "sol_BclxL_05=solve(prob,saveat=1.0,progress = true)\n",
    "\n",
    "#lets save this result in a csv file\n",
    "df=DataFrame(sol_BclxL_05)\n",
    "# insertcols!(df, 1, :names=>syms)\n",
    "CSV.write(\"outputFiles/apoptosis/TC_U2932_BclxL_05.csv\",df)"
   ]
  },
  {
   "cell_type": "code",
   "execution_count": 55,
   "metadata": {},
   "outputs": [
    {
     "name": "stdout",
     "output_type": "stream",
     "text": [
      "Have errors with SS code so just using a long TC instead\n",
      "Steady state found\n"
     ]
    }
   ],
   "source": [
    "include(\"modelFiles/U2932/odeApoptosisFixed.jl\")\n",
    "stringSyms=syms\n",
    "y0=zeros(length(syms))\n",
    "y0=initConditionsApop(y0,syms)\n",
    "syms2=Symbol.(syms)\n",
    "f=ODEFunction(odeFile!,syms=syms2)\n",
    "\n",
    "#steady state phase\n",
    "print(\"Have errors with SS code so just using a long TC instead\\n\")\n",
    "# prob=ODEProblem(f,y0,(0.0,maxTimeSS))\n",
    "prob=ODEProblem(f,y0,(0.0,10000.0),abstol=1e-16,reltol=1e-16)\n",
    "solss=solve(prob,saveat=100.0,progress = true,isoutofdomain=(y,p,t)->any(x->x<0,y))\n",
    "# solss=solve(prob,saveat=100.0,progress = true)\n",
    "\n",
    "#save the last bit of the SS solution\n",
    "dfss = DataFrame(solss[end-100:end],:auto)\n",
    "#add the variable names and save to a file\n",
    "insertcols!(dfss, 1, :names=>syms2)\n",
    "mkpath(\"outputFiles/apoptosis/\")\n",
    "CSV.write(\"outputFiles/apoptosis/SS_U2932.csv\",dfss);\n",
    "print(\"Steady state found\\n\")"
   ]
  },
  {
   "cell_type": "code",
   "execution_count": 56,
   "metadata": {},
   "outputs": [
    {
     "data": {
      "text/plain": [
       "h (generic function with 1 method)"
      ]
     },
     "execution_count": 56,
     "metadata": {},
     "output_type": "execute_result"
    }
   ],
   "source": [
    "#dynamic phase, use SS solution as initial conditions\n",
    "y0=vec(convert(Array, dfss[:,end]))\n",
    "h(p,t)=y0"
   ]
  },
  {
   "cell_type": "code",
   "execution_count": 57,
   "metadata": {},
   "outputs": [
    {
     "data": {
      "text/plain": [
       "0.8"
      ]
     },
     "execution_count": 57,
     "metadata": {},
     "output_type": "execute_result"
    }
   ],
   "source": [
    "y0[findfirst(isequal(\"Inhib_eff_BclxL\"),syms)]=0.8"
   ]
  },
  {
   "cell_type": "code",
   "execution_count": 58,
   "metadata": {},
   "outputs": [
    {
     "data": {
      "text/plain": [
       "\"outputFiles/apoptosis/TC_U293201_Bid_BclxL_08.csv\""
      ]
     },
     "execution_count": 58,
     "metadata": {},
     "output_type": "execute_result"
    }
   ],
   "source": [
    "newInit=y0\n",
    "newInit[1]=y0[1]+1000\n",
    "\n",
    "#we might use this later to remove Bcl2 survival signal\n",
    "#newInit[end]=2.77\n",
    "prob=ODEProblem(f,newInit,(0.0,maxTimeTC),abstol=1e-16,reltol=1e-16,maxiters=1e9)\n",
    "sol_BclxL_08=solve(prob,saveat=1.0,progress = true)\n",
    "\n",
    "#lets save this result in a csv file\n",
    "df=DataFrame(sol_BclxL_08)\n",
    "# insertcols!(df, 1, :names=>syms)\n",
    "CSV.write(\"outputFiles/apoptosis/TC_U2932_BclxL_08.csv\",df)"
   ]
  },
  {
   "cell_type": "code",
   "execution_count": null,
   "metadata": {},
   "outputs": [],
   "source": []
  },
  {
   "cell_type": "markdown",
   "metadata": {},
   "source": [
    "### Mcl1 inhibition"
   ]
  },
  {
   "cell_type": "code",
   "execution_count": 59,
   "metadata": {},
   "outputs": [
    {
     "name": "stdout",
     "output_type": "stream",
     "text": [
      "Have errors with SS code so just using a long TC instead\n",
      "Steady state found\n"
     ]
    }
   ],
   "source": [
    "include(\"modelFiles/U2932/odeApoptosisFixed.jl\")\n",
    "stringSyms=syms\n",
    "y0=zeros(length(syms))\n",
    "y0=initConditionsApop(y0,syms)\n",
    "syms2=Symbol.(syms)\n",
    "f=ODEFunction(odeFile!,syms=syms2)\n",
    "\n",
    "#steady state phase\n",
    "print(\"Have errors with SS code so just using a long TC instead\\n\")\n",
    "# prob=ODEProblem(f,y0,(0.0,maxTimeSS))\n",
    "prob=ODEProblem(f,y0,(0.0,10000.0),abstol=1e-16,reltol=1e-16)\n",
    "solss=solve(prob,saveat=100.0,progress = true,isoutofdomain=(y,p,t)->any(x->x<0,y))\n",
    "# solss=solve(prob,saveat=100.0,progress = true)\n",
    "\n",
    "#save the last bit of the SS solution\n",
    "dfss = DataFrame(solss[end-100:end],:auto)\n",
    "#add the variable names and save to a file\n",
    "insertcols!(dfss, 1, :names=>syms2)\n",
    "mkpath(\"outputFiles/apoptosis/\")\n",
    "CSV.write(\"outputFiles/apoptosis/SS_U2932.csv\",dfss);\n",
    "print(\"Steady state found\\n\")"
   ]
  },
  {
   "cell_type": "code",
   "execution_count": 60,
   "metadata": {},
   "outputs": [
    {
     "data": {
      "text/plain": [
       "h (generic function with 1 method)"
      ]
     },
     "execution_count": 60,
     "metadata": {},
     "output_type": "execute_result"
    }
   ],
   "source": [
    "#dynamic phase, use SS solution as initial conditions\n",
    "y0=vec(convert(Array, dfss[:,end]))\n",
    "h(p,t)=y0"
   ]
  },
  {
   "cell_type": "code",
   "execution_count": 61,
   "metadata": {},
   "outputs": [
    {
     "data": {
      "text/plain": [
       "0.5"
      ]
     },
     "execution_count": 61,
     "metadata": {},
     "output_type": "execute_result"
    }
   ],
   "source": [
    "y0[findfirst(isequal(\"Inhib_eff_Mcl1\"),syms)]=0.5"
   ]
  },
  {
   "cell_type": "code",
   "execution_count": 62,
   "metadata": {},
   "outputs": [
    {
     "data": {
      "text/plain": [
       "\"outputFiles/apoptosis/TC_U293201_Bid_Mcl1_05.csv\""
      ]
     },
     "execution_count": 62,
     "metadata": {},
     "output_type": "execute_result"
    }
   ],
   "source": [
    "newInit=y0\n",
    "newInit[1]=y0[1]+1000\n",
    "\n",
    "#we might use this later to remove Bcl2 survival signal\n",
    "#newInit[end]=2.77\n",
    "prob=ODEProblem(f,newInit,(0.0,maxTimeTC),abstol=1e-16,reltol=1e-16,maxiters=1e9)\n",
    "sol_Mcl1_05=solve(prob,saveat=1.0,progress = true)\n",
    "\n",
    "#lets save this result in a csv file\n",
    "df=DataFrame(sol_Mcl1_05)\n",
    "# insertcols!(df, 1, :names=>syms)\n",
    "CSV.write(\"outputFiles/apoptosis/TC_U2932_Mcl1_05.csv\",df)"
   ]
  },
  {
   "cell_type": "code",
   "execution_count": 63,
   "metadata": {},
   "outputs": [
    {
     "name": "stdout",
     "output_type": "stream",
     "text": [
      "Have errors with SS code so just using a long TC instead\n",
      "Steady state found\n"
     ]
    }
   ],
   "source": [
    "include(\"modelFiles/U2932/odeApoptosisFixed.jl\")\n",
    "stringSyms=syms\n",
    "y0=zeros(length(syms))\n",
    "y0=initConditionsApop(y0,syms)\n",
    "syms2=Symbol.(syms)\n",
    "f=ODEFunction(odeFile!,syms=syms2)\n",
    "\n",
    "#steady state phase\n",
    "print(\"Have errors with SS code so just using a long TC instead\\n\")\n",
    "# prob=ODEProblem(f,y0,(0.0,maxTimeSS))\n",
    "prob=ODEProblem(f,y0,(0.0,10000.0),abstol=1e-16,reltol=1e-16)\n",
    "solss=solve(prob,saveat=100.0,progress = true,isoutofdomain=(y,p,t)->any(x->x<0,y))\n",
    "# solss=solve(prob,saveat=100.0,progress = true)\n",
    "\n",
    "#save the last bit of the SS solution\n",
    "dfss = DataFrame(solss[end-100:end],:auto)\n",
    "#add the variable names and save to a file\n",
    "insertcols!(dfss, 1, :names=>syms2)\n",
    "mkpath(\"outputFiles/apoptosis/\")\n",
    "CSV.write(\"outputFiles/apoptosis/SS_U2932.csv\",dfss);\n",
    "print(\"Steady state found\\n\")"
   ]
  },
  {
   "cell_type": "code",
   "execution_count": 64,
   "metadata": {},
   "outputs": [
    {
     "data": {
      "text/plain": [
       "h (generic function with 1 method)"
      ]
     },
     "execution_count": 64,
     "metadata": {},
     "output_type": "execute_result"
    }
   ],
   "source": [
    "#dynamic phase, use SS solution as initial conditions\n",
    "y0=vec(convert(Array, dfss[:,end]))\n",
    "h(p,t)=y0"
   ]
  },
  {
   "cell_type": "code",
   "execution_count": 65,
   "metadata": {},
   "outputs": [
    {
     "data": {
      "text/plain": [
       "0.8"
      ]
     },
     "execution_count": 65,
     "metadata": {},
     "output_type": "execute_result"
    }
   ],
   "source": [
    "y0[findfirst(isequal(\"Inhib_eff_Mcl1\"),syms)]=0.8"
   ]
  },
  {
   "cell_type": "code",
   "execution_count": 66,
   "metadata": {},
   "outputs": [
    {
     "data": {
      "text/plain": [
       "\"outputFiles/apoptosis/TC_U293201_Bid_Mcl1_08.csv\""
      ]
     },
     "execution_count": 66,
     "metadata": {},
     "output_type": "execute_result"
    }
   ],
   "source": [
    "newInit=y0\n",
    "newInit[1]=y0[1]+1000\n",
    "\n",
    "#we might use this later to remove Bcl2 survival signal\n",
    "#newInit[end]=2.77\n",
    "prob=ODEProblem(f,newInit,(0.0,maxTimeTC),abstol=1e-16,reltol=1e-16,maxiters=1e9)\n",
    "sol_Mcl1_08=solve(prob,saveat=1.0,progress = true)\n",
    "\n",
    "#lets save this result in a csv file\n",
    "df=DataFrame(sol_Mcl1_08)\n",
    "# insertcols!(df, 1, :names=>syms)\n",
    "CSV.write(\"outputFiles/apoptosis/TC_U2932_Mcl1_08.csv\",df)"
   ]
  },
  {
   "cell_type": "code",
   "execution_count": null,
   "metadata": {},
   "outputs": [],
   "source": []
  },
  {
   "cell_type": "code",
   "execution_count": null,
   "metadata": {},
   "outputs": [],
   "source": [
    "AMito=findfirst(isequal(\"AMito\"),syms)\n",
    "plot(sol[AMito,:],lw=2,label=\"WT\")"
   ]
  },
  {
   "cell_type": "code",
   "execution_count": null,
   "metadata": {},
   "outputs": [],
   "source": [
    "sol[AMito,end]"
   ]
  },
  {
   "cell_type": "code",
   "execution_count": 69,
   "metadata": {},
   "outputs": [],
   "source": [
    "AMito=findfirst(isequal(\"AMito\"),syms)\n",
    "p2=(plot(sol[AMito,:]./sol[AMito,:],lw=2,linecolor=\"Black\",label=\"WT\"))\n",
    "plot!(sol_Bcl2_05[AMito,:]./sol[AMito,:],lw=2,linecolor=\"Olive Drab\",label=\"Bcl-2 (50%)\")\n",
    "plot!(sol_Bcl2_08[AMito,:]./sol[AMito,:],lw=2,linecolor=\"Tomato\",label=\"Bcl-2 (20%)\")\n",
    "plot!(sol_BclxL_05[AMito,:]./sol[AMito,:],lw=2,linecolor=\"Light Sky Blue\",label=\"Bcl-xL (50%)\")\n",
    "plot!(sol_BclxL_08[AMito,:]./sol[AMito,:],lw=2,linecolor=\"Orchid\",label=\"Bcl-xL (20%)\")\n",
    "plot!(sol_Mcl1_05[AMito,:]./sol[AMito,:],lw=2,linecolor=\"Slate Gray\",label=\"Mcl1 (50%)\")\n",
    "plot!(sol_Mcl1_08[AMito,:]./sol[AMito,:],lw=2,linecolor=\"Orange\",label=\"Mcl1 (20%)\")\n",
    "plot!(legend=:outerright,\n",
    "    size=(800,400),margin=5Plots.mm)\n",
    "s=string.(collect(0:8:24))\n",
    "plot!(xticks = (0:(60*8):(24*60),s), ylabel=\"MOMP (Fold change)\",xlabel=\"time h\", \n",
    "    xtickfontsize=14,ytickfontsize=14,xguidefontsize=18,yguidefontsize=18,legendfontsize=14,\n",
    "    fmt = :png)\n",
    "# png(\"outputFiles/apoptosis/U2932_MOMP\")"
   ]
  },
  {
   "cell_type": "code",
   "execution_count": null,
   "metadata": {},
   "outputs": [],
   "source": []
  },
  {
   "cell_type": "code",
   "execution_count": null,
   "metadata": {},
   "outputs": [],
   "source": []
  },
  {
   "cell_type": "markdown",
   "metadata": {},
   "source": [
    "# RC-K8"
   ]
  },
  {
   "cell_type": "code",
   "execution_count": null,
   "metadata": {},
   "outputs": [],
   "source": [
    "#identify the three CSV sheets that describe the model\n",
    "reactionsFile=\"moduleDefinitionFiles/RCK8/reactions.csv\"\n",
    "parametersFile=\"moduleDefinitionFiles/RCK8/parameters.csv\"\n",
    "rateLawsFile=\"moduleDefinitionFiles/RCK8/rateLaws.csv\"\n",
    "\n",
    "#build a command to execute csv2julia\n",
    "location=[locationOfCSV2Julia]\n",
    "arguments=[reactionsFile, parametersFile, rateLawsFile,\"odeApoptosis.jl\"]\n",
    "cmd=`python3 $locationOfCSV2Julia $arguments`\n",
    "\n",
    "#lets run csv2julia (requires python to be installed)\n",
    "run(cmd)\n",
    "\n",
    "#pop the outputs in a modelFiles folder\n",
    "mkpath(\"modelFiles/RCK8/\")\n",
    "mv(\"odeApoptosis.jl\",\"modelFiles/RCK8/odeApoptosis.jl\", force=true)\n",
    "mv(\"variableNames.jl\",\"modelFiles/RCK8/variableNamesApoptosis.jl\", force=true);"
   ]
  },
  {
   "cell_type": "code",
   "execution_count": null,
   "metadata": {},
   "outputs": [],
   "source": [
    "function initConditionsApop(y0,syms)\n",
    "   #units: M \n",
    "   y0[findfirst(isequal(\"DIS\"),syms)]=0\n",
    "   y0[findfirst(isequal(\"Bid\"),syms)]=60000\n",
    "   y0[findfirst(isequal(\"Puma\"),syms)]=3600 \n",
    "   y0[findfirst(isequal(\"Noxa\"),syms)]=1800 \n",
    "   y0[findfirst(isequal(\"BclxLc\"),syms)]=20000\n",
    "   y0[findfirst(isequal(\"Bim\"),syms)]=2000 \n",
    "   y0[findfirst(isequal(\"Mcl1c\"),syms)]=5000\n",
    "   y0[findfirst(isequal(\"A1c\"),syms)]=1600\n",
    "   y0[findfirst(isequal(\"Bcl2c\"),syms)]=1400\n",
    "   #this is new and will be replaced by cRel control in multiscale modeling\n",
    "   y0[findfirst(isequal(\"Bcl2t\"),syms)]=69 \n",
    "   y0[findfirst(isequal(\"Bax\"),syms)]=14200 \n",
    "   y0[findfirst(isequal(\"MBak\"),syms)]=4600 \n",
    "   y0[findfirst(isequal(\"Mito\"),syms)]=500000 \n",
    "   y0[findfirst(isequal(\"Inhib_eff_Bcl2\"),syms)]=1\n",
    "   y0[findfirst(isequal(\"Inhib_eff_BclxL\"),syms)]=1\n",
    "   y0[findfirst(isequal(\"Inhib_eff_Mcl1\"),syms)]=1 \n",
    "\n",
    "   return y0\n",
    "end\n"
   ]
  },
  {
   "cell_type": "code",
   "execution_count": null,
   "metadata": {},
   "outputs": [],
   "source": [
    "include(\"modelFiles/RCK8/odeApoptosis.jl\")\n",
    "include(\"modelFiles/RCK8/variableNamesApoptosis.jl\")\n",
    "p=1\n",
    "maxTimeSS=10000.0\n",
    "maxTimeTC=24*60.0\n",
    "params=1;"
   ]
  },
  {
   "cell_type": "code",
   "execution_count": null,
   "metadata": {},
   "outputs": [],
   "source": [
    "include(\"utilityFunctions/fixSpecies.jl\")\n",
    "fixSpecies(\"modelFiles/RCK8/odeApoptosis.jl\",\"modelFiles/RCK8/odeApoptosisFixed.jl\",1)"
   ]
  },
  {
   "cell_type": "code",
   "execution_count": null,
   "metadata": {},
   "outputs": [],
   "source": [
    "include(\"modelFiles/RCK8/odeApoptosisFixed.jl\")\n",
    "stringSyms=syms\n",
    "y0=zeros(length(syms))\n",
    "y0=initConditionsApop(y0,syms)\n",
    "syms2=Symbol.(syms)\n",
    "f=ODEFunction(odeFile!,syms=syms2)\n",
    "\n",
    "#steady state phase\n",
    "print(\"Have errors with SS code so just using a long TC instead\\n\")\n",
    "# prob=ODEProblem(f,y0,(0.0,maxTimeSS))\n",
    "prob=ODEProblem(f,y0,(0.0,10000.0),abstol=1e-16,reltol=1e-16)\n",
    "solss=solve(prob,saveat=100.0,progress = true,isoutofdomain=(y,p,t)->any(x->x<0,y))\n",
    "# solss=solve(prob,saveat=100.0,progress = true)\n",
    "\n",
    "#save the last bit of the SS solution\n",
    "dfss = DataFrame(solss[end-100:end],:auto)\n",
    "#add the variable names and save to a file\n",
    "insertcols!(dfss, 1, :names=>syms2)\n",
    "mkpath(\"outputFiles/apoptosis/\")\n",
    "CSV.write(\"outputFiles/apoptosis/SS_RCK8.csv\",dfss);\n",
    "print(\"Steady state found\\n\")"
   ]
  },
  {
   "cell_type": "code",
   "execution_count": null,
   "metadata": {},
   "outputs": [],
   "source": [
    "#dynamic phase, use SS solution as initial conditions\n",
    "y0=vec(convert(Array, dfss[:,end]))\n",
    "h(p,t)=y0"
   ]
  },
  {
   "cell_type": "code",
   "execution_count": null,
   "metadata": {},
   "outputs": [],
   "source": [
    "newInit=y0\n",
    "newInit[1]=y0[1]+0.01\n",
    "\n",
    "#we might use this later to remove Bcl2 survival signal\n",
    "#newInit[end]=2.77\n",
    "prob=ODEProblem(f,newInit,(0.0,maxTimeTC),abstol=1e-16,reltol=1e-16,maxiters=1e9)\n",
    "sol=solve(prob,saveat=1.0,progress = true)\n",
    "\n",
    "#lets save this result in a csv file\n",
    "df=DataFrame(sol)\n",
    "# insertcols!(df, 1, :names=>syms)\n",
    "CSV.write(\"outputFiles/apoptosis/TC_RCK8.csv\",df)"
   ]
  },
  {
   "cell_type": "code",
   "execution_count": null,
   "metadata": {},
   "outputs": [],
   "source": []
  },
  {
   "cell_type": "markdown",
   "metadata": {},
   "source": [
    "### Bcl2 inhibition"
   ]
  },
  {
   "cell_type": "code",
   "execution_count": null,
   "metadata": {},
   "outputs": [],
   "source": [
    "include(\"modelFiles/RCK8/odeApoptosisFixed.jl\")\n",
    "stringSyms=syms\n",
    "y0=zeros(length(syms))\n",
    "y0=initConditionsApop(y0,syms)\n",
    "syms2=Symbol.(syms)\n",
    "f=ODEFunction(odeFile!,syms=syms2)\n",
    "\n",
    "#steady state phase\n",
    "print(\"Have errors with SS code so just using a long TC instead\\n\")\n",
    "# prob=ODEProblem(f,y0,(0.0,maxTimeSS))\n",
    "prob=ODEProblem(f,y0,(0.0,10000.0),abstol=1e-16,reltol=1e-16)\n",
    "solss=solve(prob,saveat=100.0,progress = true,isoutofdomain=(y,p,t)->any(x->x<0,y))\n",
    "# solss=solve(prob,saveat=100.0,progress = true)\n",
    "\n",
    "#save the last bit of the SS solution\n",
    "dfss = DataFrame(solss[end-100:end],:auto)\n",
    "#add the variable names and save to a file\n",
    "insertcols!(dfss, 1, :names=>syms2)\n",
    "mkpath(\"outputFiles/apoptosis/\")\n",
    "CSV.write(\"outputFiles/apoptosis/SS_RCK8.csv\",dfss);\n",
    "print(\"Steady state found\\n\")"
   ]
  },
  {
   "cell_type": "code",
   "execution_count": null,
   "metadata": {},
   "outputs": [],
   "source": [
    "#dynamic phase, use SS solution as initial conditions\n",
    "y0=vec(convert(Array, dfss[:,end]))\n",
    "h(p,t)=y0"
   ]
  },
  {
   "cell_type": "code",
   "execution_count": null,
   "metadata": {},
   "outputs": [],
   "source": [
    "y0[findfirst(isequal(\"Inhib_eff_Bcl2\"),syms)]=0.5"
   ]
  },
  {
   "cell_type": "code",
   "execution_count": null,
   "metadata": {},
   "outputs": [],
   "source": [
    "newInit=y0\n",
    "newInit[1]=y0[1]+0.01\n",
    "\n",
    "#we might use this later to remove Bcl2 survival signal\n",
    "#newInit[end]=2.77\n",
    "prob=ODEProblem(f,newInit,(0.0,maxTimeTC),abstol=1e-16,reltol=1e-16,maxiters=1e9)\n",
    "sol_Bcl2_05=solve(prob,saveat=1.0,progress = true)\n",
    "\n",
    "#lets save this result in a csv file\n",
    "df=DataFrame(sol_Bcl2_05)\n",
    "# insertcols!(df, 1, :names=>syms)\n",
    "CSV.write(\"outputFiles/apoptosis/TC_RCK8_Bcl2_05.csv\",df)"
   ]
  },
  {
   "cell_type": "code",
   "execution_count": null,
   "metadata": {},
   "outputs": [],
   "source": [
    "include(\"modelFiles/RCK8/odeApoptosisFixed.jl\")\n",
    "stringSyms=syms\n",
    "y0=zeros(length(syms))\n",
    "y0=initConditionsApop(y0,syms)\n",
    "syms2=Symbol.(syms)\n",
    "f=ODEFunction(odeFile!,syms=syms2)\n",
    "\n",
    "#steady state phase\n",
    "print(\"Have errors with SS code so just using a long TC instead\\n\")\n",
    "# prob=ODEProblem(f,y0,(0.0,maxTimeSS))\n",
    "prob=ODEProblem(f,y0,(0.0,10000.0),abstol=1e-16,reltol=1e-16)\n",
    "solss=solve(prob,saveat=100.0,progress = true,isoutofdomain=(y,p,t)->any(x->x<0,y))\n",
    "# solss=solve(prob,saveat=100.0,progress = true)\n",
    "\n",
    "#save the last bit of the SS solution\n",
    "dfss = DataFrame(solss[end-100:end],:auto)\n",
    "#add the variable names and save to a file\n",
    "insertcols!(dfss, 1, :names=>syms2)\n",
    "mkpath(\"outputFiles/apoptosis/\")\n",
    "CSV.write(\"outputFiles/apoptosis/SS_RCK8.csv\",dfss);\n",
    "print(\"Steady state found\\n\")"
   ]
  },
  {
   "cell_type": "code",
   "execution_count": null,
   "metadata": {},
   "outputs": [],
   "source": [
    "#dynamic phase, use SS solution as initial conditions\n",
    "y0=vec(convert(Array, dfss[:,end]))\n",
    "h(p,t)=y0"
   ]
  },
  {
   "cell_type": "code",
   "execution_count": null,
   "metadata": {},
   "outputs": [],
   "source": [
    "y0[findfirst(isequal(\"Inhib_eff_Bcl2\"),syms)]=0.8"
   ]
  },
  {
   "cell_type": "code",
   "execution_count": null,
   "metadata": {},
   "outputs": [],
   "source": [
    "newInit=y0\n",
    "newInit[1]=y0[1]+0.01\n",
    "\n",
    "#we might use this later to remove Bcl2 survival signal\n",
    "#newInit[end]=2.77\n",
    "prob=ODEProblem(f,newInit,(0.0,maxTimeTC),abstol=1e-16,reltol=1e-16,maxiters=1e9)\n",
    "sol_Bcl2_08=solve(prob,saveat=1.0,progress = true)\n",
    "\n",
    "#lets save this result in a csv file\n",
    "df=DataFrame(sol_Bcl2_08)\n",
    "# insertcols!(df, 1, :names=>syms)\n",
    "CSV.write(\"outputFiles/apoptosis/TC_RCK8_Bcl2_08.csv\",df)"
   ]
  },
  {
   "cell_type": "markdown",
   "metadata": {},
   "source": [
    "### BclxL inhibition"
   ]
  },
  {
   "cell_type": "code",
   "execution_count": null,
   "metadata": {},
   "outputs": [],
   "source": [
    "include(\"modelFiles/RCK8/odeApoptosisFixed.jl\")\n",
    "stringSyms=syms\n",
    "y0=zeros(length(syms))\n",
    "y0=initConditionsApop(y0,syms)\n",
    "syms2=Symbol.(syms)\n",
    "f=ODEFunction(odeFile!,syms=syms2)\n",
    "\n",
    "#steady state phase\n",
    "print(\"Have errors with SS code so just using a long TC instead\\n\")\n",
    "# prob=ODEProblem(f,y0,(0.0,maxTimeSS))\n",
    "prob=ODEProblem(f,y0,(0.0,10000.0),abstol=1e-16,reltol=1e-16)\n",
    "solss=solve(prob,saveat=100.0,progress = true,isoutofdomain=(y,p,t)->any(x->x<0,y))\n",
    "# solss=solve(prob,saveat=100.0,progress = true)\n",
    "\n",
    "#save the last bit of the SS solution\n",
    "dfss = DataFrame(solss[end-100:end],:auto)\n",
    "#add the variable names and save to a file\n",
    "insertcols!(dfss, 1, :names=>syms2)\n",
    "mkpath(\"outputFiles/apoptosis/\")\n",
    "CSV.write(\"outputFiles/apoptosis/SS_RCK8.csv\",dfss);\n",
    "print(\"Steady state found\\n\")"
   ]
  },
  {
   "cell_type": "code",
   "execution_count": null,
   "metadata": {},
   "outputs": [],
   "source": [
    "#dynamic phase, use SS solution as initial conditions\n",
    "y0=vec(convert(Array, dfss[:,end]))\n",
    "h(p,t)=y0"
   ]
  },
  {
   "cell_type": "code",
   "execution_count": null,
   "metadata": {},
   "outputs": [],
   "source": [
    "y0[findfirst(isequal(\"Inhib_eff_BclxL\"),syms)]=0.5"
   ]
  },
  {
   "cell_type": "code",
   "execution_count": null,
   "metadata": {},
   "outputs": [],
   "source": [
    "newInit=y0\n",
    "newInit[1]=y0[1]+0.01\n",
    "\n",
    "#we might use this later to remove Bcl2 survival signal\n",
    "#newInit[end]=2.77\n",
    "prob=ODEProblem(f,newInit,(0.0,maxTimeTC),abstol=1e-16,reltol=1e-16,maxiters=1e9)\n",
    "sol_BclxL_05=solve(prob,saveat=1.0,progress = true)\n",
    "\n",
    "#lets save this result in a csv file\n",
    "df=DataFrame(sol_BclxL_05)\n",
    "# insertcols!(df, 1, :names=>syms)\n",
    "CSV.write(\"outputFiles/apoptosis/TC_RCK8_BclxL_05.csv\",df)"
   ]
  },
  {
   "cell_type": "code",
   "execution_count": null,
   "metadata": {},
   "outputs": [],
   "source": [
    "include(\"modelFiles/RCK8/odeApoptosisFixed.jl\")\n",
    "stringSyms=syms\n",
    "y0=zeros(length(syms))\n",
    "y0=initConditionsApop(y0,syms)\n",
    "syms2=Symbol.(syms)\n",
    "f=ODEFunction(odeFile!,syms=syms2)\n",
    "\n",
    "#steady state phase\n",
    "print(\"Have errors with SS code so just using a long TC instead\\n\")\n",
    "# prob=ODEProblem(f,y0,(0.0,maxTimeSS))\n",
    "prob=ODEProblem(f,y0,(0.0,10000.0),abstol=1e-16,reltol=1e-16)\n",
    "solss=solve(prob,saveat=100.0,progress = true,isoutofdomain=(y,p,t)->any(x->x<0,y))\n",
    "# solss=solve(prob,saveat=100.0,progress = true)\n",
    "\n",
    "#save the last bit of the SS solution\n",
    "dfss = DataFrame(solss[end-100:end],:auto)\n",
    "#add the variable names and save to a file\n",
    "insertcols!(dfss, 1, :names=>syms2)\n",
    "mkpath(\"outputFiles/apoptosis/\")\n",
    "CSV.write(\"outputFiles/apoptosis/SS_RCK8.csv\",dfss);\n",
    "print(\"Steady state found\\n\")"
   ]
  },
  {
   "cell_type": "code",
   "execution_count": null,
   "metadata": {},
   "outputs": [],
   "source": [
    "#dynamic phase, use SS solution as initial conditions\n",
    "y0=vec(convert(Array, dfss[:,end]))\n",
    "h(p,t)=y0"
   ]
  },
  {
   "cell_type": "code",
   "execution_count": null,
   "metadata": {},
   "outputs": [],
   "source": [
    "y0[findfirst(isequal(\"Inhib_eff_BclxL\"),syms)]=0.8"
   ]
  },
  {
   "cell_type": "code",
   "execution_count": null,
   "metadata": {},
   "outputs": [],
   "source": [
    "newInit=y0\n",
    "newInit[1]=y0[1]+0.01\n",
    "\n",
    "#we might use this later to remove Bcl2 survival signal\n",
    "#newInit[end]=2.77\n",
    "prob=ODEProblem(f,newInit,(0.0,maxTimeTC),abstol=1e-16,reltol=1e-16,maxiters=1e9)\n",
    "sol_BclxL_08=solve(prob,saveat=1.0,progress = true)\n",
    "\n",
    "#lets save this result in a csv file\n",
    "df=DataFrame(sol_BclxL_08)\n",
    "# insertcols!(df, 1, :names=>syms)\n",
    "CSV.write(\"outputFiles/apoptosis/TC_RCK8_BclxL_08.csv\",df)"
   ]
  },
  {
   "cell_type": "code",
   "execution_count": null,
   "metadata": {},
   "outputs": [],
   "source": []
  },
  {
   "cell_type": "markdown",
   "metadata": {},
   "source": [
    "### Mcl1 inhibition"
   ]
  },
  {
   "cell_type": "code",
   "execution_count": null,
   "metadata": {},
   "outputs": [],
   "source": [
    "include(\"modelFiles/RCK8/odeApoptosisFixed.jl\")\n",
    "stringSyms=syms\n",
    "y0=zeros(length(syms))\n",
    "y0=initConditionsApop(y0,syms)\n",
    "syms2=Symbol.(syms)\n",
    "f=ODEFunction(odeFile!,syms=syms2)\n",
    "\n",
    "#steady state phase\n",
    "print(\"Have errors with SS code so just using a long TC instead\\n\")\n",
    "# prob=ODEProblem(f,y0,(0.0,maxTimeSS))\n",
    "prob=ODEProblem(f,y0,(0.0,10000.0),abstol=1e-16,reltol=1e-16)\n",
    "solss=solve(prob,saveat=100.0,progress = true,isoutofdomain=(y,p,t)->any(x->x<0,y))\n",
    "# solss=solve(prob,saveat=100.0,progress = true)\n",
    "\n",
    "#save the last bit of the SS solution\n",
    "dfss = DataFrame(solss[end-100:end],:auto)\n",
    "#add the variable names and save to a file\n",
    "insertcols!(dfss, 1, :names=>syms2)\n",
    "mkpath(\"outputFiles/apoptosis/\")\n",
    "CSV.write(\"outputFiles/apoptosis/SS_RCK8.csv\",dfss);\n",
    "print(\"Steady state found\\n\")"
   ]
  },
  {
   "cell_type": "code",
   "execution_count": null,
   "metadata": {},
   "outputs": [],
   "source": [
    "#dynamic phase, use SS solution as initial conditions\n",
    "y0=vec(convert(Array, dfss[:,end]))\n",
    "h(p,t)=y0"
   ]
  },
  {
   "cell_type": "code",
   "execution_count": null,
   "metadata": {},
   "outputs": [],
   "source": [
    "y0[findfirst(isequal(\"Inhib_eff_Mcl1\"),syms)]=0.5"
   ]
  },
  {
   "cell_type": "code",
   "execution_count": null,
   "metadata": {},
   "outputs": [],
   "source": [
    "newInit=y0\n",
    "newInit[1]=y0[1]+0.01\n",
    "\n",
    "#we might use this later to remove Bcl2 survival signal\n",
    "#newInit[end]=2.77\n",
    "prob=ODEProblem(f,newInit,(0.0,maxTimeTC),abstol=1e-16,reltol=1e-16,maxiters=1e9)\n",
    "sol_Mcl1_05=solve(prob,saveat=1.0,progress = true)\n",
    "\n",
    "#lets save this result in a csv file\n",
    "df=DataFrame(sol_Mcl1_05)\n",
    "# insertcols!(df, 1, :names=>syms)\n",
    "CSV.write(\"outputFiles/apoptosis/TC_RCK80_Mcl1_05.csv\",df)"
   ]
  },
  {
   "cell_type": "code",
   "execution_count": null,
   "metadata": {},
   "outputs": [],
   "source": [
    "include(\"modelFiles/RCK8/odeApoptosisFixed.jl\")\n",
    "stringSyms=syms\n",
    "y0=zeros(length(syms))\n",
    "y0=initConditionsApop(y0,syms)\n",
    "syms2=Symbol.(syms)\n",
    "f=ODEFunction(odeFile!,syms=syms2)\n",
    "\n",
    "#steady state phase\n",
    "print(\"Have errors with SS code so just using a long TC instead\\n\")\n",
    "# prob=ODEProblem(f,y0,(0.0,maxTimeSS))\n",
    "prob=ODEProblem(f,y0,(0.0,10000.0),abstol=1e-16,reltol=1e-16)\n",
    "solss=solve(prob,saveat=100.0,progress = true,isoutofdomain=(y,p,t)->any(x->x<0,y))\n",
    "# solss=solve(prob,saveat=100.0,progress = true)\n",
    "\n",
    "#save the last bit of the SS solution\n",
    "dfss = DataFrame(solss[end-100:end],:auto)\n",
    "#add the variable names and save to a file\n",
    "insertcols!(dfss, 1, :names=>syms2)\n",
    "mkpath(\"outputFiles/apoptosis/\")\n",
    "CSV.write(\"outputFiles/apoptosis/SS_RCK8.csv\",dfss);\n",
    "print(\"Steady state found\\n\")"
   ]
  },
  {
   "cell_type": "code",
   "execution_count": null,
   "metadata": {},
   "outputs": [],
   "source": [
    "#dynamic phase, use SS solution as initial conditions\n",
    "y0=vec(convert(Array, dfss[:,end]))\n",
    "h(p,t)=y0"
   ]
  },
  {
   "cell_type": "code",
   "execution_count": null,
   "metadata": {},
   "outputs": [],
   "source": [
    "y0[findfirst(isequal(\"Inhib_eff_Mcl1\"),syms)]=0.8"
   ]
  },
  {
   "cell_type": "code",
   "execution_count": null,
   "metadata": {},
   "outputs": [],
   "source": [
    "newInit=y0\n",
    "newInit[1]=y0[1]+0.01\n",
    "\n",
    "#we might use this later to remove Bcl2 survival signal\n",
    "#newInit[end]=2.77\n",
    "prob=ODEProblem(f,newInit,(0.0,maxTimeTC),abstol=1e-16,reltol=1e-16,maxiters=1e9)\n",
    "sol_Mcl1_08=solve(prob,saveat=1.0,progress = true)\n",
    "\n",
    "#lets save this result in a csv file\n",
    "df=DataFrame(sol_Mcl1_08)\n",
    "# insertcols!(df, 1, :names=>syms)\n",
    "CSV.write(\"outputFiles/apoptosis/TC_RCK8_Mcl1_08.csv\",df)"
   ]
  },
  {
   "cell_type": "code",
   "execution_count": null,
   "metadata": {},
   "outputs": [],
   "source": []
  },
  {
   "cell_type": "code",
   "execution_count": null,
   "metadata": {},
   "outputs": [],
   "source": [
    "AMito=findfirst(isequal(\"AMito\"),syms)\n",
    "plot(sol[AMito,:],lw=2,label=\"WT\")"
   ]
  },
  {
   "cell_type": "code",
   "execution_count": null,
   "metadata": {},
   "outputs": [],
   "source": [
    "sol[AMito,end]"
   ]
  },
  {
   "cell_type": "code",
   "execution_count": null,
   "metadata": {},
   "outputs": [],
   "source": [
    "AMito=findfirst(isequal(\"AMito\"),syms)\n",
    "p3=(plot(sol[AMito,:]./sol[AMito,:],lw=2,linecolor=\"Black\",label=\"WT\"))\n",
    "plot!(sol_Bcl2_05[AMito,:]./sol[AMito,:],lw=2,linecolor=\"Olive Drab\",label=\"RCK8+ABT-199 (50%)\")\n",
    "plot!(sol_Bcl2_08[AMito,:]./sol[AMito,:],lw=2,linecolor=\"Tomato\",label=\"RCK8+ABT-199 (20%)\")\n",
    "plot!(sol_BclxL_05[AMito,:]./sol[AMito,:],lw=2,linecolor=\"Light Sky Blue\",label=\"RCK8+A1331852 (50%)\")\n",
    "plot!(sol_BclxL_08[AMito,:]./sol[AMito,:],lw=2,linecolor=\"Orchid\",label=\"RCK8+A1331852 (20%)\")\n",
    "plot!(sol_Mcl1_05[AMito,:]./sol[AMito,:],lw=2,linecolor=\"Slate Gray\",label=\"RCK8+S63845 (50%)\")\n",
    "plot!(sol_Mcl1_08[AMito,:]./sol[AMito,:],lw=2,linecolor=\"Orange\",label=\"RCK8+S63845 (20%)\")\n",
    "plot!(legend=:outerright,\n",
    "    size=(800,400),margin=5Plots.mm)\n",
    "s=string.(collect(0:8:24))\n",
    "plot!(xticks = (0:(60*8):(24*60),s), title = \"RC-K8\", ylabel=\"MOMP (Fold change)\",xlabel=\"time h\", \n",
    "    xtickfontsize=14,ytickfontsize=14,xguidefontsize=18,yguidefontsize=18,#legendfontsize=10,\n",
    "    fmt = :png)\n",
    "# png(\"outputFiles/apoptosis/RCK8_MOMP\")"
   ]
  },
  {
   "cell_type": "code",
   "execution_count": null,
   "metadata": {},
   "outputs": [],
   "source": []
  },
  {
   "cell_type": "markdown",
   "metadata": {},
   "source": [
    "# SUDHL8"
   ]
  },
  {
   "cell_type": "code",
   "execution_count": null,
   "metadata": {},
   "outputs": [],
   "source": [
    "#identify the three CSV sheets that describe the model\n",
    "reactionsFile=\"moduleDefinitionFiles/SUDHL8/reactions.csv\"\n",
    "parametersFile=\"moduleDefinitionFiles/SUDHL8/parameters.csv\"\n",
    "rateLawsFile=\"moduleDefinitionFiles/SUDHL8/rateLaws.csv\"\n",
    "\n",
    "#build a command to execute csv2julia\n",
    "location=[locationOfCSV2Julia]\n",
    "arguments=[reactionsFile, parametersFile, rateLawsFile,\"odeApoptosis.jl\"]\n",
    "cmd=`python $locationOfCSV2Julia $arguments`\n",
    "\n",
    "#lets run csv2julia (requires python to be installed)\n",
    "run(cmd)\n",
    "\n",
    "#pop the outputs in a modelFiles folder\n",
    "mkpath(\"modelFiles/SUDHL8/\")\n",
    "mv(\"odeApoptosis.jl\",\"modelFiles/SUDHL8/odeApoptosis.jl\", force=true)\n",
    "mv(\"variableNames.jl\",\"modelFiles/SUDHL8/variableNamesApoptosis.jl\", force=true);"
   ]
  },
  {
   "cell_type": "code",
   "execution_count": null,
   "metadata": {},
   "outputs": [],
   "source": [
    "function initConditionsApop(y0,syms)\n",
    "   #units: M\n",
    "   #source: the supplement of Albeck et al 2008 PLOS Biology\n",
    "   y0[findfirst(isequal(\"DIS\"),syms)]=0\n",
    "   y0[findfirst(isequal(\"Bid\"),syms)]=60000\n",
    "   y0[findfirst(isequal(\"BclxLc\"),syms)]=20000\n",
    "   y0[findfirst(isequal(\"Bax\"),syms)]=22000\n",
    "   y0[findfirst(isequal(\"Mito\"),syms)]=500000\n",
    "   #this is new and will be replaced by cRel control in multiscale modeling\n",
    "   y0[findfirst(isequal(\"Bcl2t\"),syms)]=92\n",
    "   y0[findfirst(isequal(\"A1c\"),syms)]=1600 \n",
    "#    y0[findfirst(isequal(\"Bim\"),syms)]=6000\n",
    "   y0[findfirst(isequal(\"Bim\"),syms)]=6000 \n",
    "   y0[findfirst(isequal(\"Mcl1c\"),syms)]=10400 \n",
    "   y0[findfirst(isequal(\"Puma\"),syms)]=1600\n",
    "   y0[findfirst(isequal(\"MBak\"),syms)]=9400 \n",
    "   y0[findfirst(isequal(\"Inhib_eff_BclxL\"),syms)]=1\n",
    "   y0[findfirst(isequal(\"Inhib_eff_Mcl1\"),syms)]=1 \n",
    "\n",
    "   return y0\n",
    "end"
   ]
  },
  {
   "cell_type": "code",
   "execution_count": null,
   "metadata": {},
   "outputs": [],
   "source": [
    "include(\"modelFiles/SUDHL8/odeApoptosis.jl\")\n",
    "include(\"modelFiles/SUDHL8/variableNamesApoptosis.jl\")\n",
    "p=1\n",
    "maxTimeSS=10000.0\n",
    "maxTimeTC=24*60.0\n",
    "params=1;"
   ]
  },
  {
   "cell_type": "code",
   "execution_count": null,
   "metadata": {},
   "outputs": [],
   "source": [
    "include(\"utilityFunctions/fixSpecies.jl\")\n",
    "fixSpecies(\"modelFiles/SUDHL8/odeApoptosis.jl\",\"modelFiles/SUDHL8/odeApoptosisFixed.jl\",1)"
   ]
  },
  {
   "cell_type": "code",
   "execution_count": null,
   "metadata": {},
   "outputs": [],
   "source": [
    "include(\"modelFiles/SUDHL8/odeApoptosisFixed.jl\")\n",
    "stringSyms=syms\n",
    "y0=zeros(length(syms))\n",
    "y0=initConditionsApop(y0,syms)\n",
    "syms2=Symbol.(syms)\n",
    "f=ODEFunction(odeFile!,syms=syms2)\n",
    "\n",
    "#steady state phase\n",
    "print(\"Have errors with SS code so just using a long TC instead\\n\")\n",
    "# prob=ODEProblem(f,y0,(0.0,maxTimeSS))\n",
    "prob=ODEProblem(f,y0,(0.0,10000.0),abstol=1e-16,reltol=1e-16,maxiters=1e9)\n",
    "solss=solve(prob,saveat=100.0,progress = true,isoutofdomain=(y,p,t)->any(x->x<0,y))\n",
    "# solss=solve(prob,saveat=100.0,progress = true)\n",
    "\n",
    "#save the last bit of the SS solution\n",
    "dfss = DataFrame(solss[end-100:end],:auto)\n",
    "#add the variable names and save to a file\n",
    "insertcols!(dfss, 1, :names=>syms2)\n",
    "mkpath(\"outputFiles/apoptosis/\")\n",
    "CSV.write(\"outputFiles/apoptosis/SS_SUDHL8.csv\",dfss);\n",
    "print(\"Steady state found\\n\")"
   ]
  },
  {
   "cell_type": "code",
   "execution_count": null,
   "metadata": {},
   "outputs": [],
   "source": [
    "#dynamic phase, use SS solution as initial conditions\n",
    "y0=vec(convert(Array, dfss[:,end]))\n",
    "h(p,t)=y0"
   ]
  },
  {
   "cell_type": "code",
   "execution_count": null,
   "metadata": {},
   "outputs": [],
   "source": [
    "newInit=y0\n",
    "newInit[1]=y0[1]+100\n",
    "\n",
    "#we might use this later to remove Bcl2 survival signal\n",
    "#newInit[end]=2.77\n",
    "prob=ODEProblem(f,newInit,(0.0,maxTimeTC),abstol=1e-16,reltol=1e-16,maxiters=1e9)\n",
    "sol=solve(prob,saveat=1.0,progress = true)\n",
    "\n",
    "#lets save this result in a csv file\n",
    "df=DataFrame(sol)\n",
    "# insertcols!(df, 1, :names=>syms)\n",
    "CSV.write(\"outputFiles/apoptosis/TC_SUDHL8.csv\",df)"
   ]
  },
  {
   "cell_type": "markdown",
   "metadata": {},
   "source": [
    "### BclxL inhibition"
   ]
  },
  {
   "cell_type": "code",
   "execution_count": null,
   "metadata": {},
   "outputs": [],
   "source": [
    "include(\"modelFiles/SUDHL8/odeApoptosisFixed.jl\")\n",
    "stringSyms=syms\n",
    "y0=zeros(length(syms))\n",
    "y0=initConditionsApop(y0,syms)\n",
    "syms2=Symbol.(syms)\n",
    "f=ODEFunction(odeFile!,syms=syms2)\n",
    "\n",
    "#steady state phase\n",
    "print(\"Have errors with SS code so just using a long TC instead\\n\")\n",
    "# prob=ODEProblem(f,y0,(0.0,maxTimeSS))\n",
    "prob=ODEProblem(f,y0,(0.0,10000.0),abstol=1e-16,reltol=1e-16,maxiters=1e9)\n",
    "solss=solve(prob,saveat=100.0,progress = true,isoutofdomain=(y,p,t)->any(x->x<0,y))\n",
    "# solss=solve(prob,saveat=100.0,progress = true)\n",
    "\n",
    "#save the last bit of the SS solution\n",
    "dfss = DataFrame(solss[end-100:end],:auto)\n",
    "#add the variable names and save to a file\n",
    "insertcols!(dfss, 1, :names=>syms2)\n",
    "mkpath(\"outputFiles/apoptosis/\")\n",
    "CSV.write(\"outputFiles/apoptosis/SS_SUDHL8.csv\",dfss);\n",
    "print(\"Steady state found\\n\")"
   ]
  },
  {
   "cell_type": "code",
   "execution_count": null,
   "metadata": {},
   "outputs": [],
   "source": [
    "#dynamic phase, use SS solution as initial conditions\n",
    "y0=vec(convert(Array, dfss[:,end]))\n",
    "h(p,t)=y0"
   ]
  },
  {
   "cell_type": "code",
   "execution_count": null,
   "metadata": {},
   "outputs": [],
   "source": [
    "y0[findfirst(isequal(\"Inhib_eff_BclxL\"),syms)]=0.5"
   ]
  },
  {
   "cell_type": "code",
   "execution_count": null,
   "metadata": {},
   "outputs": [],
   "source": [
    "newInit=y0\n",
    "newInit[1]=y0[1]+100\n",
    "\n",
    "#we might use this later to remove Bcl2 survival signal\n",
    "#newInit[end]=2.77\n",
    "prob=ODEProblem(f,newInit,(0.0,maxTimeTC),abstol=1e-16,reltol=1e-16,maxiters=1e9)\n",
    "sol_BclxL_05=solve(prob,saveat=1.0,progress = true)\n",
    "\n",
    "#lets save this result in a csv file\n",
    "df=DataFrame(sol_BclxL_05)\n",
    "# insertcols!(df, 1, :names=>syms)\n",
    "CSV.write(\"outputFiles/apoptosis/TC_SUDHL8_BclxL_05.csv\",df)"
   ]
  },
  {
   "cell_type": "code",
   "execution_count": null,
   "metadata": {},
   "outputs": [],
   "source": [
    "include(\"modelFiles/SUDHL8/odeApoptosisFixed.jl\")\n",
    "stringSyms=syms\n",
    "y0=zeros(length(syms))\n",
    "y0=initConditionsApop(y0,syms)\n",
    "syms2=Symbol.(syms)\n",
    "f=ODEFunction(odeFile!,syms=syms2)\n",
    "\n",
    "#steady state phase\n",
    "print(\"Have errors with SS code so just using a long TC instead\\n\")\n",
    "# prob=ODEProblem(f,y0,(0.0,maxTimeSS))\n",
    "prob=ODEProblem(f,y0,(0.0,10000.0),abstol=1e-16,reltol=1e-16,maxiters=1e9)\n",
    "solss=solve(prob,saveat=100.0,progress = true,isoutofdomain=(y,p,t)->any(x->x<0,y))\n",
    "# solss=solve(prob,saveat=100.0,progress = true)\n",
    "\n",
    "#save the last bit of the SS solution\n",
    "dfss = DataFrame(solss[end-100:end],:auto)\n",
    "#add the variable names and save to a file\n",
    "insertcols!(dfss, 1, :names=>syms2)\n",
    "mkpath(\"outputFiles/apoptosis/\")\n",
    "CSV.write(\"outputFiles/apoptosis/SUDHL8.csv\",dfss);\n",
    "print(\"Steady state found\\n\")"
   ]
  },
  {
   "cell_type": "code",
   "execution_count": null,
   "metadata": {},
   "outputs": [],
   "source": [
    "#dynamic phase, use SS solution as initial conditions\n",
    "y0=vec(convert(Array, dfss[:,end]))\n",
    "h(p,t)=y0"
   ]
  },
  {
   "cell_type": "code",
   "execution_count": null,
   "metadata": {},
   "outputs": [],
   "source": [
    "y0[findfirst(isequal(\"Inhib_eff_BclxL\"),syms)]=0.8"
   ]
  },
  {
   "cell_type": "code",
   "execution_count": null,
   "metadata": {},
   "outputs": [],
   "source": [
    "newInit=y0\n",
    "newInit[1]=y0[1]+100\n",
    "\n",
    "#we might use this later to remove Bcl2 survival signal\n",
    "#newInit[end]=2.77\n",
    "prob=ODEProblem(f,newInit,(0.0,maxTimeTC),abstol=1e-16,reltol=1e-16,maxiters=1e9)\n",
    "sol_BclxL_08=solve(prob,saveat=1.0,progress = true)\n",
    "\n",
    "#lets save this result in a csv file\n",
    "df=DataFrame(sol_BclxL_08)\n",
    "# insertcols!(df, 1, :names=>syms)\n",
    "CSV.write(\"outputFiles/apoptosis/TC_SUDHL8_BclxL_08.csv\",df)"
   ]
  },
  {
   "cell_type": "markdown",
   "metadata": {},
   "source": [
    "### Mcl1 inihibition "
   ]
  },
  {
   "cell_type": "code",
   "execution_count": null,
   "metadata": {},
   "outputs": [],
   "source": [
    "include(\"modelFiles/SUDHL8/odeApoptosisFixed.jl\")\n",
    "stringSyms=syms\n",
    "y0=zeros(length(syms))\n",
    "y0=initConditionsApop(y0,syms)\n",
    "syms2=Symbol.(syms)\n",
    "f=ODEFunction(odeFile!,syms=syms2)\n",
    "\n",
    "#steady state phase\n",
    "print(\"Have errors with SS code so just using a long TC instead\\n\")\n",
    "# prob=ODEProblem(f,y0,(0.0,maxTimeSS))\n",
    "prob=ODEProblem(f,y0,(0.0,10000.0),abstol=1e-16,reltol=1e-16,maxiters=1e9)\n",
    "solss=solve(prob,saveat=100.0,progress = true,isoutofdomain=(y,p,t)->any(x->x<0,y))\n",
    "# solss=solve(prob,saveat=100.0,progress = true)\n",
    "\n",
    "#save the last bit of the SS solution\n",
    "dfss = DataFrame(solss[end-100:end],:auto)\n",
    "#add the variable names and save to a file\n",
    "insertcols!(dfss, 1, :names=>syms2)\n",
    "mkpath(\"outputFiles/apoptosis/\")\n",
    "CSV.write(\"outputFiles/apoptosis/SS_SUDHL8.csv\",dfss);\n",
    "print(\"Steady state found\\n\")"
   ]
  },
  {
   "cell_type": "code",
   "execution_count": null,
   "metadata": {},
   "outputs": [],
   "source": [
    "#dynamic phase, use SS solution as initial conditions\n",
    "y0=vec(convert(Array, dfss[:,end]))\n",
    "h(p,t)=y0"
   ]
  },
  {
   "cell_type": "code",
   "execution_count": null,
   "metadata": {},
   "outputs": [],
   "source": [
    "y0[findfirst(isequal(\"Inhib_eff_Mcl1\"),syms)]=0.5"
   ]
  },
  {
   "cell_type": "code",
   "execution_count": null,
   "metadata": {},
   "outputs": [],
   "source": [
    "newInit=y0\n",
    "newInit[1]=y0[1]+100\n",
    "\n",
    "#we might use this later to remove Bcl2 survival signal\n",
    "#newInit[end]=2.77\n",
    "prob=ODEProblem(f,newInit,(0.0,maxTimeTC),abstol=1e-16,reltol=1e-16,maxiters=1e9)\n",
    "sol_Mcl1_05=solve(prob,saveat=1.0,progress = true)\n",
    "\n",
    "#lets save this result in a csv file\n",
    "df=DataFrame(sol_Mcl1_05)\n",
    "# insertcols!(df, 1, :names=>syms)\n",
    "CSV.write(\"outputFiles/apoptosis/TC_SUDHL8_Mcl1_05.csv\",df)"
   ]
  },
  {
   "cell_type": "code",
   "execution_count": null,
   "metadata": {},
   "outputs": [],
   "source": [
    "include(\"modelFiles/SUDHL8/odeApoptosisFixed.jl\")\n",
    "stringSyms=syms\n",
    "y0=zeros(length(syms))\n",
    "y0=initConditionsApop(y0,syms)\n",
    "syms2=Symbol.(syms)\n",
    "f=ODEFunction(odeFile!,syms=syms2)\n",
    "\n",
    "#steady state phase\n",
    "print(\"Have errors with SS code so just using a long TC instead\\n\")\n",
    "# prob=ODEProblem(f,y0,(0.0,maxTimeSS))\n",
    "prob=ODEProblem(f,y0,(0.0,10000.0),abstol=1e-16,reltol=1e-16,maxiters=1e9)\n",
    "solss=solve(prob,saveat=100.0,progress = true,isoutofdomain=(y,p,t)->any(x->x<0,y))\n",
    "# solss=solve(prob,saveat=100.0,progress = true)\n",
    "\n",
    "#save the last bit of the SS solution\n",
    "dfss = DataFrame(solss[end-100:end],:auto)\n",
    "#add the variable names and save to a file\n",
    "insertcols!(dfss, 1, :names=>syms2)\n",
    "mkpath(\"outputFiles/apoptosis/\")\n",
    "CSV.write(\"outputFiles/apoptosis/SS_SUDHL8.csv\",dfss);\n",
    "print(\"Steady state found\\n\")"
   ]
  },
  {
   "cell_type": "code",
   "execution_count": null,
   "metadata": {},
   "outputs": [],
   "source": [
    "#dynamic phase, use SS solution as initial conditions\n",
    "y0=vec(convert(Array, dfss[:,end]))\n",
    "h(p,t)=y0"
   ]
  },
  {
   "cell_type": "code",
   "execution_count": null,
   "metadata": {},
   "outputs": [],
   "source": [
    "y0[findfirst(isequal(\"Inhib_eff_Mcl1\"),syms)]=0.8"
   ]
  },
  {
   "cell_type": "code",
   "execution_count": null,
   "metadata": {},
   "outputs": [],
   "source": [
    "newInit=y0\n",
    "newInit[1]=y0[1]+100\n",
    "\n",
    "#we might use this later to remove Bcl2 survival signal\n",
    "#newInit[end]=2.77\n",
    "prob=ODEProblem(f,newInit,(0.0,maxTimeTC),abstol=1e-16,reltol=1e-16,maxiters=1e9)\n",
    "sol_Mcl1_08=solve(prob,saveat=1.0,progress = true)\n",
    "\n",
    "#lets save this result in a csv file\n",
    "df=DataFrame(sol_Mcl1_08)\n",
    "# insertcols!(df, 1, :names=>syms)\n",
    "CSV.write(\"outputFiles/apoptosis/TC_SUDHL8_Mcl1_08.csv\",df)"
   ]
  },
  {
   "cell_type": "code",
   "execution_count": null,
   "metadata": {},
   "outputs": [],
   "source": []
  },
  {
   "cell_type": "code",
   "execution_count": null,
   "metadata": {},
   "outputs": [],
   "source": [
    "AMito=findfirst(isequal(\"AMito\"),syms)\n",
    "plot(sol[AMito,:],lw=2,label=\"WT\")"
   ]
  },
  {
   "cell_type": "code",
   "execution_count": null,
   "metadata": {},
   "outputs": [],
   "source": [
    "sol[AMito,end]"
   ]
  },
  {
   "cell_type": "code",
   "execution_count": null,
   "metadata": {},
   "outputs": [],
   "source": [
    "AMito=findfirst(isequal(\"AMito\"),syms)\n",
    "p4=(plot(sol[AMito,:]./sol[AMito,:],lw=2,linecolor=\"Black\"))#,label=\"WT\"))\n",
    "plot!(sol_BclxL_05[AMito,:]./sol[AMito,:],lw=2,linecolor=\"Light Sky Blue\")#,label=\"SUDHL8+A1331852 (50%)\")\n",
    "plot!(sol_BclxL_08[AMito,:]./sol[AMito,:],lw=2,linecolor=\"Orchid\")#,label=\"SUDHL8+A1331852 (20%)\")\n",
    "plot!(sol_Mcl1_05[AMito,:]./sol[AMito,:],lw=2,linecolor=\"Slate Gray\")#,label=\"SUDHL8+S63845 (50%)\")\n",
    "plot!(sol_Mcl1_08[AMito,:]./sol[AMito,:],lw=2,linecolor=\"Orange\")#,label=\"SUDHL8+S63845 (20%)\")\n",
    "plot!(#legend=:outerright,\n",
    "    size=(600,400),margin=5Plots.mm)\n",
    "s=string.(collect(0:8:24))\n",
    "plot!(xticks = (0:(60*8):(24*60),s), title = \"SUDHL8\", legend = false, #ylabel=\"MOMP (Fold change)\",xlabel=\"time h\", \n",
    "    xtickfontsize=14,ytickfontsize=14,xguidefontsize=18,yguidefontsize=18,#legendfontsize=10,\n",
    "    fmt = :png)\n",
    "# png(\"outputFiles/apoptosis/SUDHL8_MOMP\")"
   ]
  },
  {
   "cell_type": "code",
   "execution_count": null,
   "metadata": {},
   "outputs": [],
   "source": []
  },
  {
   "cell_type": "markdown",
   "metadata": {},
   "source": [
    "# SUDHL10"
   ]
  },
  {
   "cell_type": "code",
   "execution_count": null,
   "metadata": {},
   "outputs": [],
   "source": [
    "#identify the three CSV sheets that describe the model\n",
    "reactionsFile=\"moduleDefinitionFiles/SUDHL10/reactions.csv\"\n",
    "parametersFile=\"moduleDefinitionFiles/SUDHL10/parameters.csv\"\n",
    "rateLawsFile=\"moduleDefinitionFiles/SUDHL10/rateLaws.csv\"\n",
    "\n",
    "#build a command to execute csv2julia\n",
    "location=[locationOfCSV2Julia]\n",
    "arguments=[reactionsFile, parametersFile, rateLawsFile,\"odeApoptosis.jl\"]\n",
    "cmd=`python $locationOfCSV2Julia $arguments`\n",
    "\n",
    "#lets run csv2julia (requires python to be installed)\n",
    "run(cmd)\n",
    "\n",
    "#pop the outputs in a modelFiles folder\n",
    "mkpath(\"modelFiles/SUDHL10/\")\n",
    "mv(\"odeApoptosis.jl\",\"modelFiles/SUDHL10/odeApoptosis.jl\", force=true)\n",
    "mv(\"variableNames.jl\",\"modelFiles/SUDHL10/variableNamesApoptosis.jl\", force=true);"
   ]
  },
  {
   "cell_type": "code",
   "execution_count": null,
   "metadata": {},
   "outputs": [],
   "source": [
    "function initConditionsApop(y0,syms)\n",
    "   #units: M\n",
    "   #source: the supplement of Albeck et al 2008 PLOS Biology\n",
    "   y0[findfirst(isequal(\"DIS\"),syms)]=0 \n",
    "   y0[findfirst(isequal(\"Bid\"),syms)]=60000\n",
    "   y0[findfirst(isequal(\"Bax\"),syms)]=6400\n",
    "   y0[findfirst(isequal(\"Mito\"),syms)]=500000\n",
    "   #this is new and will be replaced by cRel control in multiscale modeling\n",
    "   y0[findfirst(isequal(\"Bcl2t\"),syms)]=277\n",
    "#    y0[findfirst(isequal(\"Bim\"),syms)]=6000\n",
    "   y0[findfirst(isequal(\"Bim\"),syms)]=2000\n",
    "   y0[findfirst(isequal(\"Mcl1c\"),syms)]=20000\n",
    "   y0[findfirst(isequal(\"Noxa\"),syms)]=12200\n",
    "   y0[findfirst(isequal(\"MBak\"),syms)]=8400 \n",
    "   y0[findfirst(isequal(\"Inhib_eff_Mcl1\"),syms)]=1 \n",
    "\n",
    "   return y0\n",
    "end"
   ]
  },
  {
   "cell_type": "code",
   "execution_count": null,
   "metadata": {},
   "outputs": [],
   "source": [
    "include(\"modelFiles/SUDHL10/odeApoptosis.jl\")\n",
    "include(\"modelFiles/SUDHL10/variableNamesApoptosis.jl\")\n",
    "p=1\n",
    "maxTimeSS=10000.0\n",
    "maxTimeTC=24*60.0\n",
    "params=1;"
   ]
  },
  {
   "cell_type": "code",
   "execution_count": null,
   "metadata": {},
   "outputs": [],
   "source": [
    "include(\"utilityFunctions/fixSpecies.jl\")\n",
    "fixSpecies(\"modelFiles/SUDHL10/odeApoptosis.jl\",\"modelFiles/UDHL10/odeApoptosisFixed.jl\",1)"
   ]
  },
  {
   "cell_type": "code",
   "execution_count": null,
   "metadata": {},
   "outputs": [],
   "source": [
    "include(\"modelFiles/SUDHL10/odeApoptosisFixed.jl\")\n",
    "stringSyms=syms\n",
    "y0=zeros(length(syms))\n",
    "y0=initConditionsApop(y0,syms)\n",
    "syms2=Symbol.(syms)\n",
    "f=ODEFunction(odeFile!,syms=syms2)\n",
    "\n",
    "#steady state phase\n",
    "print(\"Have errors with SS code so just using a long TC instead\\n\")\n",
    "# prob=ODEProblem(f,y0,(0.0,maxTimeSS))\n",
    "prob=ODEProblem(f,y0,(0.0,10000.0),abstol=1e-16,reltol=1e-16)\n",
    "# solss=solve(prob,saveat=100.0,progress = true,isoutofdomain=(y,p,t)->any(x->x<0,y))\n",
    "solss=solve(prob,saveat=100.0,progress = true)\n",
    "\n",
    "#save the last bit of the SS solution\n",
    "dfss = DataFrame(solss[end-100:end],:auto)\n",
    "#add the variable names and save to a file\n",
    "insertcols!(dfss, 1, :names=>syms2)\n",
    "mkpath(\"outputFiles/apoptosis/\")\n",
    "CSV.write(\"outputFiles/apoptosis/SS_SUDHL10.csv\",dfss);\n",
    "print(\"Steady state found\\n\")"
   ]
  },
  {
   "cell_type": "code",
   "execution_count": null,
   "metadata": {},
   "outputs": [],
   "source": [
    "#dynamic phase, use SS solution as initial conditions\n",
    "y0=vec(convert(Array, dfss[:,end]))\n",
    "h(p,t)=y0"
   ]
  },
  {
   "cell_type": "code",
   "execution_count": null,
   "metadata": {},
   "outputs": [],
   "source": [
    "newInit=y0\n",
    "newInit[1]=y0[1]+0.01\n",
    "\n",
    "#we might use this later to remove Bcl2 survival signal\n",
    "#newInit[end]=2.77\n",
    "prob=ODEProblem(f,newInit,(0.0,maxTimeTC),abstol=1e-16,reltol=1e-16,maxiters=1e9)\n",
    "sol=solve(prob,saveat=1.0,progress = true)\n",
    "\n",
    "#lets save this result in a csv file\n",
    "df=DataFrame(sol)\n",
    "# insertcols!(df, 1, :names=>syms)\n",
    "CSV.write(\"outputFiles/apoptosis/TC_SUDHL10.csv\",df)"
   ]
  },
  {
   "cell_type": "markdown",
   "metadata": {},
   "source": [
    "### Mcl1 inhibition"
   ]
  },
  {
   "cell_type": "code",
   "execution_count": null,
   "metadata": {},
   "outputs": [],
   "source": [
    "include(\"modelFiles/SUDHL10/odeApoptosisFixed.jl\")\n",
    "stringSyms=syms\n",
    "y0=zeros(length(syms))\n",
    "y0=initConditionsApop(y0,syms)\n",
    "syms2=Symbol.(syms)\n",
    "f=ODEFunction(odeFile!,syms=syms2)\n",
    "\n",
    "#steady state phase\n",
    "print(\"Have errors with SS code so just using a long TC instead\\n\")\n",
    "# prob=ODEProblem(f,y0,(0.0,maxTimeSS))\n",
    "prob=ODEProblem(f,y0,(0.0,10000.0),abstol=1e-16,reltol=1e-16)\n",
    "# solss=solve(prob,saveat=100.0,progress = true,isoutofdomain=(y,p,t)->any(x->x<0,y))\n",
    "solss=solve(prob,saveat=100.0,progress = true)\n",
    "\n",
    "#save the last bit of the SS solution\n",
    "dfss = DataFrame(solss[end-100:end],:auto)\n",
    "#add the variable names and save to a file\n",
    "insertcols!(dfss, 1, :names=>syms2)\n",
    "mkpath(\"outputFiles/apoptosis/\")\n",
    "CSV.write(\"outputFiles/apoptosis/SS_SUDHL10.csv\",dfss);\n",
    "print(\"Steady state found\\n\")"
   ]
  },
  {
   "cell_type": "code",
   "execution_count": null,
   "metadata": {},
   "outputs": [],
   "source": [
    "#dynamic phase, use SS solution as initial conditions\n",
    "y0=vec(convert(Array, dfss[:,end]))\n",
    "h(p,t)=y0"
   ]
  },
  {
   "cell_type": "code",
   "execution_count": null,
   "metadata": {},
   "outputs": [],
   "source": [
    "y0[findfirst(isequal(\"Inhib_eff_Mcl1\"),syms)]=0.5"
   ]
  },
  {
   "cell_type": "code",
   "execution_count": null,
   "metadata": {},
   "outputs": [],
   "source": [
    "newInit=y0\n",
    "newInit[1]=y0[1]+0.01\n",
    "\n",
    "#we might use this later to remove Bcl2 survival signal\n",
    "#newInit[end]=2.77\n",
    "prob=ODEProblem(f,newInit,(0.0,maxTimeTC),abstol=1e-16,reltol=1e-16,maxiters=1e9)\n",
    "sol_Mcl1_05=solve(prob,saveat=1.0,progress = true)\n",
    "\n",
    "#lets save this result in a csv file\n",
    "df=DataFrame(sol_Mcl1_05)\n",
    "# insertcols!(df, 1, :names=>syms)\n",
    "CSV.write(\"outputFiles/apoptosis/TC_SUDHL10_Mcl1_05.csv\",df)"
   ]
  },
  {
   "cell_type": "code",
   "execution_count": null,
   "metadata": {},
   "outputs": [],
   "source": [
    "include(\"modelFiles/SUDHL10/odeApoptosisFixed.jl\")\n",
    "stringSyms=syms\n",
    "y0=zeros(length(syms))\n",
    "y0=initConditionsApop(y0,syms)\n",
    "syms2=Symbol.(syms)\n",
    "f=ODEFunction(odeFile!,syms=syms2)\n",
    "\n",
    "#steady state phase\n",
    "print(\"Have errors with SS code so just using a long TC instead\\n\")\n",
    "# prob=ODEProblem(f,y0,(0.0,maxTimeSS))\n",
    "prob=ODEProblem(f,y0,(0.0,10000.0),abstol=1e-16,reltol=1e-16)\n",
    "# solss=solve(prob,saveat=100.0,progress = true,isoutofdomain=(y,p,t)->any(x->x<0,y))\n",
    "solss=solve(prob,saveat=100.0,progress = true)\n",
    "\n",
    "#save the last bit of the SS solution\n",
    "dfss = DataFrame(solss[end-100:end],:auto)\n",
    "#add the variable names and save to a file\n",
    "insertcols!(dfss, 1, :names=>syms2)\n",
    "mkpath(\"outputFiles/apoptosis/\")\n",
    "CSV.write(\"outputFiles/apoptosis/SS_SUDHL10.csv\",dfss);\n",
    "print(\"Steady state found\\n\")"
   ]
  },
  {
   "cell_type": "code",
   "execution_count": null,
   "metadata": {},
   "outputs": [],
   "source": [
    "#dynamic phase, use SS solution as initial conditions\n",
    "y0=vec(convert(Array, dfss[:,end]))\n",
    "h(p,t)=y0"
   ]
  },
  {
   "cell_type": "code",
   "execution_count": null,
   "metadata": {},
   "outputs": [],
   "source": [
    "y0[findfirst(isequal(\"Inhib_eff_Mcl1\"),syms)]=0.8"
   ]
  },
  {
   "cell_type": "code",
   "execution_count": null,
   "metadata": {},
   "outputs": [],
   "source": [
    "newInit=y0\n",
    "newInit[1]=y0[1]+0.01\n",
    "\n",
    "#we might use this later to remove Bcl2 survival signal\n",
    "#newInit[end]=2.77\n",
    "prob=ODEProblem(f,newInit,(0.0,maxTimeTC),abstol=1e-16,reltol=1e-16,maxiters=1e9)\n",
    "sol_Mcl1_08=solve(prob,saveat=1.0,progress = true)\n",
    "\n",
    "#lets save this result in a csv file\n",
    "df=DataFrame(sol_Mcl1_08)\n",
    "# insertcols!(df, 1, :names=>syms)\n",
    "CSV.write(\"outputFiles/apoptosis/TC_SUDHL10_Mcl1_08.csv\",df)"
   ]
  },
  {
   "cell_type": "code",
   "execution_count": null,
   "metadata": {},
   "outputs": [],
   "source": []
  },
  {
   "cell_type": "code",
   "execution_count": null,
   "metadata": {
    "scrolled": true
   },
   "outputs": [],
   "source": [
    "AMito=findfirst(isequal(\"AMito\"),syms)\n",
    "plot(sol[AMito,:],lw=2,label=\"WT\")"
   ]
  },
  {
   "cell_type": "code",
   "execution_count": null,
   "metadata": {},
   "outputs": [],
   "source": [
    "sol[AMito,end]"
   ]
  },
  {
   "cell_type": "code",
   "execution_count": null,
   "metadata": {},
   "outputs": [],
   "source": [
    "AMito=findfirst(isequal(\"AMito\"),syms)\n",
    "p5=(plot(sol[AMito,:]./sol[AMito,:],lw=2,linecolor=\"Black\"))#,label=\"WT\"))\n",
    "plot!(sol_Mcl1_05[AMito,:]./sol[AMito,:],lw=2,linecolor=\"Slate Gray\")#,label=\"SUDHL10+S63845 (50%)\")\n",
    "plot!(sol_Mcl1_08[AMito,:]./sol[AMito,:],lw=2,linecolor=\"Orange\")#,label=\"SUDHL10+S63845 (20%)\")\n",
    "plot!(#legend=:outerright,\n",
    "    size=(600,400),margin=5Plots.mm)\n",
    "s=string.(collect(0:8:24))\n",
    "plot!(xticks = (0:(60*8):(24*60),s), title = \"SUDHL10\", legend = false, #ylabel=\"MOMP (Fold change)\",xlabel=\"time h\", \n",
    "    xtickfontsize=14,ytickfontsize=14,xguidefontsize=18,yguidefontsize=18,#legendfontsize=10,\n",
    "    fmt = :png)\n",
    "# png(\"outputFiles/apoptosis/SUDHL10_MOMP\")"
   ]
  },
  {
   "cell_type": "code",
   "execution_count": null,
   "metadata": {},
   "outputs": [],
   "source": []
  },
  {
   "cell_type": "markdown",
   "metadata": {},
   "source": [
    "# U2946"
   ]
  },
  {
   "cell_type": "code",
   "execution_count": null,
   "metadata": {},
   "outputs": [],
   "source": [
    "#identify the three CSV sheets that describe the model\n",
    "reactionsFile=\"moduleDefinitionFiles/U2946/reactions.csv\"\n",
    "parametersFile=\"moduleDefinitionFiles/U2946/parameters.csv\"\n",
    "rateLawsFile=\"moduleDefinitionFiles/U2946/rateLaws.csv\"\n",
    "\n",
    "#build a command to execute csv2julia\n",
    "location=[locationOfCSV2Julia]\n",
    "arguments=[reactionsFile, parametersFile, rateLawsFile,\"odeApoptosis.jl\"]\n",
    "cmd=`python $locationOfCSV2Julia $arguments`\n",
    "\n",
    "#lets run csv2julia (requires python to be installed)\n",
    "run(cmd)\n",
    "\n",
    "#pop the outputs in a modelFiles folder\n",
    "mkpath(\"modelFiles/U2946/\")\n",
    "mv(\"odeApoptosis.jl\",\"modelFiles/U2946/odeApoptosis.jl\", force=true)\n",
    "mv(\"variableNames.jl\",\"modelFiles/U2946/variableNamesApoptosis.jl\", force=true);"
   ]
  },
  {
   "cell_type": "code",
   "execution_count": null,
   "metadata": {},
   "outputs": [],
   "source": [
    "function initConditionsApop(y0,syms)\n",
    "   #units: M \n",
    "   y0[findfirst(isequal(\"DIS\"),syms)]=0\n",
    "   y0[findfirst(isequal(\"Bid\"),syms)]=60000\n",
    "   y0[findfirst(isequal(\"Bax\"),syms)]=15200\n",
    "   y0[findfirst(isequal(\"Mito\"),syms)]=500000\n",
    "   #this is new and will be replaced by cRel control in multiscale modeling\n",
    "   y0[findfirst(isequal(\"Bcl2t\"),syms)]=277 \n",
    "#    y0[findfirst(isequal(\"Bim\"),syms)]=6000\n",
    "   y0[findfirst(isequal(\"Bim\"),syms)]=13400\n",
    "   y0[findfirst(isequal(\"Mcl1c\"),syms)]=20000\n",
    "   y0[findfirst(isequal(\"Noxa\"),syms)]=7800\n",
    "   y0[findfirst(isequal(\"MBak\"),syms)]=6600 \n",
    "   y0[findfirst(isequal(\"Inhib_eff_Mcl1\"),syms)]=1\n",
    "\n",
    "   return y0\n",
    "end\n"
   ]
  },
  {
   "cell_type": "code",
   "execution_count": null,
   "metadata": {},
   "outputs": [],
   "source": [
    "include(\"modelFiles/U2946/odeApoptosis.jl\")\n",
    "include(\"modelFiles/U2946/variableNamesApoptosis.jl\")\n",
    "p=1\n",
    "maxTimeSS=10000.0\n",
    "maxTimeTC=24*60.0\n",
    "params=1;"
   ]
  },
  {
   "cell_type": "code",
   "execution_count": null,
   "metadata": {},
   "outputs": [],
   "source": [
    "include(\"utilityFunctions/fixSpecies.jl\")\n",
    "fixSpecies(\"modelFiles/U2946/odeApoptosis.jl\",\"modelFiles/U2946/odeApoptosisFixed.jl\",1)"
   ]
  },
  {
   "cell_type": "code",
   "execution_count": null,
   "metadata": {},
   "outputs": [],
   "source": [
    "include(\"modelFiles/U2946/odeApoptosisFixed.jl\")\n",
    "stringSyms=syms\n",
    "y0=zeros(length(syms))\n",
    "y0=initConditionsApop(y0,syms)\n",
    "syms2=Symbol.(syms)\n",
    "f=ODEFunction(odeFile!,syms=syms2)\n",
    "\n",
    "#steady state phase\n",
    "print(\"Have errors with SS code so just using a long TC instead\\n\")\n",
    "# prob=ODEProblem(f,y0,(0.0,maxTimeSS))\n",
    "prob=ODEProblem(f,y0,(0.0,10000.0),abstol=1e-16,reltol=1e-16)\n",
    "solss=solve(prob,saveat=100.0,progress = true,isoutofdomain=(y,p,t)->any(x->x<0,y))\n",
    "# solss=solve(prob,saveat=100.0,progress = true)\n",
    "\n",
    "#save the last bit of the SS solution\n",
    "dfss = DataFrame(solss[end-100:end],:auto)\n",
    "#add the variable names and save to a file\n",
    "insertcols!(dfss, 1, :names=>syms2)\n",
    "mkpath(\"outputFiles/apoptosis/\")\n",
    "CSV.write(\"outputFiles/apoptosis/SS_U2946.csv\",dfss);\n",
    "print(\"Steady state found\\n\")"
   ]
  },
  {
   "cell_type": "code",
   "execution_count": null,
   "metadata": {},
   "outputs": [],
   "source": [
    "#dynamic phase, use SS solution as initial conditions\n",
    "y0=vec(convert(Array, dfss[:,end]))\n",
    "h(p,t)=y0"
   ]
  },
  {
   "cell_type": "code",
   "execution_count": null,
   "metadata": {},
   "outputs": [],
   "source": []
  },
  {
   "cell_type": "code",
   "execution_count": null,
   "metadata": {},
   "outputs": [],
   "source": [
    "newInit=y0\n",
    "newInit[1]=y0[1]+0.01\n",
    "\n",
    "#we might use this later to remove Bcl2 survival signal\n",
    "#newInit[end]=2.77\n",
    "prob=ODEProblem(f,newInit,(0.0,maxTimeTC),abstol=1e-16,reltol=1e-16,maxiters=1e9)\n",
    "sol=solve(prob,saveat=1.0,progress = true)\n",
    "\n",
    "#lets save this result in a csv file\n",
    "df=DataFrame(sol)\n",
    "# insertcols!(df, 1, :names=>syms)\n",
    "CSV.write(\"outputFiles/apoptosis/TC_U2946.csv\",df)"
   ]
  },
  {
   "cell_type": "markdown",
   "metadata": {},
   "source": [
    "### Mcl1 inhibition"
   ]
  },
  {
   "cell_type": "code",
   "execution_count": null,
   "metadata": {},
   "outputs": [],
   "source": [
    "include(\"modelFiles/U2946/odeApoptosisFixed.jl\")\n",
    "stringSyms=syms\n",
    "y0=zeros(length(syms))\n",
    "y0=initConditionsApop(y0,syms)\n",
    "syms2=Symbol.(syms)\n",
    "f=ODEFunction(odeFile!,syms=syms2)\n",
    "\n",
    "#steady state phase\n",
    "print(\"Have errors with SS code so just using a long TC instead\\n\")\n",
    "# prob=ODEProblem(f,y0,(0.0,maxTimeSS))\n",
    "prob=ODEProblem(f,y0,(0.0,10000.0),abstol=1e-16,reltol=1e-16)\n",
    "solss=solve(prob,saveat=100.0,progress = true,isoutofdomain=(y,p,t)->any(x->x<0,y))\n",
    "# solss=solve(prob,saveat=100.0,progress = true)\n",
    "\n",
    "#save the last bit of the SS solution\n",
    "dfss = DataFrame(solss[end-100:end],:auto)\n",
    "#add the variable names and save to a file\n",
    "insertcols!(dfss, 1, :names=>syms2)\n",
    "mkpath(\"outputFiles/apoptosis/\")\n",
    "CSV.write(\"outputFiles/apoptosis/SS_U2946.csv\",dfss);\n",
    "print(\"Steady state found\\n\")"
   ]
  },
  {
   "cell_type": "code",
   "execution_count": null,
   "metadata": {},
   "outputs": [],
   "source": [
    "#dynamic phase, use SS solution as initial conditions\n",
    "y0=vec(convert(Array, dfss[:,end]))\n",
    "h(p,t)=y0"
   ]
  },
  {
   "cell_type": "code",
   "execution_count": null,
   "metadata": {},
   "outputs": [],
   "source": [
    "y0[findfirst(isequal(\"Inhib_eff_Mcl1\"),syms)]=0.5"
   ]
  },
  {
   "cell_type": "code",
   "execution_count": null,
   "metadata": {},
   "outputs": [],
   "source": [
    "newInit=y0\n",
    "newInit[1]=y0[1]+0.01\n",
    "\n",
    "#we might use this later to remove Bcl2 survival signal\n",
    "#newInit[end]=2.77\n",
    "prob=ODEProblem(f,newInit,(0.0,maxTimeTC),abstol=1e-16,reltol=1e-16,maxiters=1e9)\n",
    "sol_Mcl1_05=solve(prob,saveat=1.0,progress = true)\n",
    "\n",
    "#lets save this result in a csv file\n",
    "df=DataFrame(sol_Mcl1_05)\n",
    "# insertcols!(df, 1, :names=>syms)\n",
    "CSV.write(\"outputFiles/apoptosis/TC_U2946_Mcl1_05.csv\",df)"
   ]
  },
  {
   "cell_type": "code",
   "execution_count": null,
   "metadata": {},
   "outputs": [],
   "source": [
    "include(\"modelFiles/U2946/odeApoptosisFixed.jl\")\n",
    "stringSyms=syms\n",
    "y0=zeros(length(syms))\n",
    "y0=initConditionsApop(y0,syms)\n",
    "syms2=Symbol.(syms)\n",
    "f=ODEFunction(odeFile!,syms=syms2)\n",
    "\n",
    "#steady state phase\n",
    "print(\"Have errors with SS code so just using a long TC instead\\n\")\n",
    "# prob=ODEProblem(f,y0,(0.0,maxTimeSS))\n",
    "prob=ODEProblem(f,y0,(0.0,10000.0),abstol=1e-16,reltol=1e-16)\n",
    "solss=solve(prob,saveat=100.0,progress = true,isoutofdomain=(y,p,t)->any(x->x<0,y))\n",
    "# solss=solve(prob,saveat=100.0,progress = true)\n",
    "\n",
    "#save the last bit of the SS solution\n",
    "dfss = DataFrame(solss[end-100:end],:auto)\n",
    "#add the variable names and save to a file\n",
    "insertcols!(dfss, 1, :names=>syms2)\n",
    "mkpath(\"outputFiles/apoptosis/\")\n",
    "CSV.write(\"outputFiles/apoptosis/SS_U2946.csv\",dfss);\n",
    "print(\"Steady state found\\n\")"
   ]
  },
  {
   "cell_type": "code",
   "execution_count": null,
   "metadata": {},
   "outputs": [],
   "source": [
    "#dynamic phase, use SS solution as initial conditions\n",
    "y0=vec(convert(Array, dfss[:,end]))\n",
    "h(p,t)=y0"
   ]
  },
  {
   "cell_type": "code",
   "execution_count": null,
   "metadata": {},
   "outputs": [],
   "source": [
    "y0[findfirst(isequal(\"Inhib_eff_Mcl1\"),syms)]=0.8"
   ]
  },
  {
   "cell_type": "code",
   "execution_count": null,
   "metadata": {},
   "outputs": [],
   "source": [
    "newInit=y0\n",
    "newInit[1]=y0[1]+0.01\n",
    "\n",
    "#we might use this later to remove Bcl2 survival signal\n",
    "#newInit[end]=2.77\n",
    "prob=ODEProblem(f,newInit,(0.0,maxTimeTC),abstol=1e-16,reltol=1e-16,maxiters=1e9)\n",
    "sol_Mcl1_08=solve(prob,saveat=1.0,progress = true)\n",
    "\n",
    "#lets save this result in a csv file\n",
    "df=DataFrame(sol_Mcl1_08)\n",
    "# insertcols!(df, 1, :names=>syms)\n",
    "CSV.write(\"outputFiles/apoptosis/TC_U2946_Mcl1_08.csv\",df)"
   ]
  },
  {
   "cell_type": "code",
   "execution_count": null,
   "metadata": {},
   "outputs": [],
   "source": []
  },
  {
   "cell_type": "code",
   "execution_count": null,
   "metadata": {},
   "outputs": [],
   "source": [
    "AMito=findfirst(isequal(\"AMito\"),syms)\n",
    "plot(sol[AMito,:],lw=2,label=\"WT\")"
   ]
  },
  {
   "cell_type": "code",
   "execution_count": null,
   "metadata": {},
   "outputs": [],
   "source": [
    "sol[AMito,end]"
   ]
  },
  {
   "cell_type": "code",
   "execution_count": null,
   "metadata": {},
   "outputs": [],
   "source": [
    "AMito=findfirst(isequal(\"AMito\"),syms)\n",
    "p6=(plot(sol[AMito,:]./sol[AMito,:],lw=2,linecolor=\"Black\"))#,label=\"WT\"))\n",
    "plot!(sol_Mcl1_05[AMito,:]./sol[AMito,:],lw=2,linecolor=\"Slate Gray\")#,label=\"U2946+S63845 (50%)\")\n",
    "plot!(sol_Mcl1_08[AMito,:]./sol[AMito,:],lw=2,linecolor=\"Orange\")#,label=\"U2946+S63845 (20%)\")\n",
    "plot!(#legend=:outerright,\n",
    "    size=(600,400),margin=5Plots.mm)\n",
    "s=string.(collect(0:8:24))\n",
    "plot!(xticks = (0:(60*8):(24*60),s), title = \"U2946\", legend = false, #ylabel=\"MOMP (Fold change)\",xlabel=\"time h\", \n",
    "    xtickfontsize=14,ytickfontsize=14,xguidefontsize=18,yguidefontsize=18,#legendfontsize=10,\n",
    "    fmt = :png)\n",
    "# png(\"outputFiles/apoptosis/U2946_MOMP\")"
   ]
  },
  {
   "cell_type": "code",
   "execution_count": null,
   "metadata": {},
   "outputs": [],
   "source": []
  },
  {
   "cell_type": "code",
   "execution_count": null,
   "metadata": {},
   "outputs": [],
   "source": [
    "plot(p1, p2, p3, p4, p5, p6, layout = (3, 2), size=(800,1200))\n",
    "plot!(xlabel = \"time h\", ylabel = \"MOMP (Fold change)\")\n",
    "# png(\"outputFiles/apoptosis/Cells_MOMP_paper\")"
   ]
  },
  {
   "cell_type": "code",
   "execution_count": null,
   "metadata": {},
   "outputs": [],
   "source": []
  }
 ],
 "metadata": {
  "kernelspec": {
   "display_name": "Julia 1.8.0-DEV",
   "language": "julia",
   "name": "julia-1.8"
  },
  "language_info": {
   "file_extension": ".jl",
   "mimetype": "application/julia",
   "name": "julia",
   "version": "1.8.0"
  }
 },
 "nbformat": 4,
 "nbformat_minor": 4
}
