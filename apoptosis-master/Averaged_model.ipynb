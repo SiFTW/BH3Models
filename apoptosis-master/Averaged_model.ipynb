{
 "cells": [
  {
   "cell_type": "markdown",
   "metadata": {},
   "source": [
    "# This notebook will generate the output of the apoptosis model"
   ]
  },
  {
   "cell_type": "markdown",
   "metadata": {},
   "source": [
    "---\n",
    "## Apoptosis Model\n",
    "### Model scope\n",
    "This model was published by Albeck *et al.* 2008 (https://doi.org/10.1371/journal.pbio.0060299) and modified by Loriaux *et al.* 2013 to include expression and degradation of most chemical species (https://doi.org/10.1371/journal.pcbi.1002901). The key finding of this model is the variable delay switch-like behavior. Scope is shown below:"
   ]
  },
  {
   "cell_type": "code",
   "execution_count": null,
   "metadata": {
    "scrolled": true
   },
   "outputs": [],
   "source": [
    "using DifferentialEquations, DataFrames\n",
    "using Plots, StatsPlots\n",
    "using CSV, Tables\n",
    "using Sundials"
   ]
  },
  {
   "cell_type": "code",
   "execution_count": null,
   "metadata": {},
   "outputs": [],
   "source": [
    "#set up where CSV2Julia is\n",
    "locationOfCSV2Julia=\"../CSV2JuliaDiffEq-master/csv2model.py\""
   ]
  },
  {
   "cell_type": "markdown",
   "metadata": {},
   "source": [
    "# Averaged cell line"
   ]
  },
  {
   "cell_type": "code",
   "execution_count": null,
   "metadata": {},
   "outputs": [],
   "source": [
    "#identify the three CSV sheets that describe the model\n",
    "reactionsFile=\"moduleDefinitionFiles/averaged/reactions.csv\"\n",
    "parametersFile=\"moduleDefinitionFiles/averaged/parameters.csv\"\n",
    "rateLawsFile=\"moduleDefinitionFiles/averaged/rateLaws.csv\"\n",
    "\n",
    "#build a command to execute csv2julia\n",
    "location=[locationOfCSV2Julia]\n",
    "arguments=[reactionsFile, parametersFile, rateLawsFile,\"odeApoptosis.jl\"]\n",
    "cmd=`python3 $locationOfCSV2Julia $arguments`\n",
    "\n",
    "#lets run csv2julia (requires python to be installed)\n",
    "run(cmd)\n",
    "\n",
    "#pop the outputs in a modelFiles folder\n",
    "mkpath(\"modelFiles/averaged/\")\n",
    "mv(\"odeApoptosis.jl\",\"modelFiles/averaged/odeApoptosis.jl\", force=true)\n",
    "mv(\"variableNames.jl\",\"modelFiles/averaged/variableNamesApoptosis.jl\", force=true);"
   ]
  },
  {
   "cell_type": "code",
   "execution_count": null,
   "metadata": {},
   "outputs": [],
   "source": [
    "function initConditionsApop(y0,syms)\n",
    "   #units: M \n",
    "   y0[findfirst(isequal(\"DIS\"),syms)]=0\n",
    "   y0[findfirst(isequal(\"Bid\"),syms)]=60000\n",
    "   y0[findfirst(isequal(\"Puma\"),syms)]=3600 \n",
    "   y0[findfirst(isequal(\"Noxa\"),syms)]=1800 \n",
    "   y0[findfirst(isequal(\"BclxLc\"),syms)]=20000\n",
    "   y0[findfirst(isequal(\"Bim\"),syms)]=2000 \n",
    "   y0[findfirst(isequal(\"Mcl1c\"),syms)]=5000\n",
    "   y0[findfirst(isequal(\"A1c\"),syms)]=1600\n",
    "   y0[findfirst(isequal(\"Bcl2c\"),syms)]=1400\n",
    "   #this is new and will be replaced by cRel control in multiscale modeling\n",
    "   y0[findfirst(isequal(\"Bcl2t\"),syms)]=69 \n",
    "   y0[findfirst(isequal(\"Bax\"),syms)]=14200 \n",
    "   y0[findfirst(isequal(\"MBak\"),syms)]=4600 \n",
    "   y0[findfirst(isequal(\"Mito\"),syms)]=500000 \n",
    "   y0[findfirst(isequal(\"Inhib_eff_Bcl2\"),syms)]=1\n",
    "   y0[findfirst(isequal(\"Inhib_eff_BclxL\"),syms)]=1\n",
    "   y0[findfirst(isequal(\"Inhib_eff_Mcl1\"),syms)]=1 \n",
    "\n",
    "   return y0\n",
    "end\n"
   ]
  },
  {
   "cell_type": "code",
   "execution_count": null,
   "metadata": {},
   "outputs": [],
   "source": [
    "include(\"modelFiles/averaged/odeApoptosis.jl\")\n",
    "include(\"modelFiles/averaged/variableNamesApoptosis.jl\")\n",
    "p=1\n",
    "maxTimeSS=10000.0\n",
    "maxTimeTC=24*60.0\n",
    "params=1;"
   ]
  },
  {
   "cell_type": "code",
   "execution_count": null,
   "metadata": {},
   "outputs": [],
   "source": [
    "include(\"utilityFunctions/fixSpecies.jl\")\n",
    "fixSpecies(\"modelFiles/averaged/odeApoptosis.jl\",\"modelFiles/averaged/odeApoptosisFixed.jl\",1)"
   ]
  },
  {
   "cell_type": "code",
   "execution_count": null,
   "metadata": {},
   "outputs": [],
   "source": [
    "include(\"modelFiles/averaged/odeApoptosisFixed.jl\")\n",
    "stringSyms=syms\n",
    "y0=zeros(length(syms))\n",
    "y0=initConditionsApop(y0,syms)\n",
    "syms2=Symbol.(syms)\n",
    "f=ODEFunction(odeFile!,syms=syms2)\n",
    "\n",
    "#steady state phase\n",
    "print(\"Have errors with SS code so just using a long TC instead\\n\")\n",
    "# prob=ODEProblem(f,y0,(0.0,maxTimeSS))\n",
    "prob=ODEProblem(f,y0,(0.0,10000.0),abstol=1e-16,reltol=1e-16)\n",
    "solss=solve(prob,saveat=100.0,progress = true,isoutofdomain=(y,p,t)->any(x->x<0,y))\n",
    "# solss=solve(prob,saveat=100.0,progress = true)\n",
    "\n",
    "#save the last bit of the SS solution\n",
    "dfss = DataFrame(solss[end-100:end],:auto)\n",
    "#add the variable names and save to a file\n",
    "insertcols!(dfss, 1, :names=>syms2)\n",
    "mkpath(\"outputFiles/apoptosis/\")\n",
    "CSV.write(\"outputFiles/apoptosis/SS_averaged.csv\",dfss);\n",
    "print(\"Steady state found\\n\")"
   ]
  },
  {
   "cell_type": "code",
   "execution_count": null,
   "metadata": {},
   "outputs": [],
   "source": [
    "#dynamic phase, use SS solution as initial conditions\n",
    "y0=vec(convert(Array, dfss[:,end]))\n",
    "h(p,t)=y0"
   ]
  },
  {
   "cell_type": "code",
   "execution_count": null,
   "metadata": {},
   "outputs": [],
   "source": []
  },
  {
   "cell_type": "code",
   "execution_count": null,
   "metadata": {},
   "outputs": [],
   "source": [
    "newInit=y0\n",
    "newInit[1]=y0[1]+0.01\n",
    "\n",
    "#we might use this later to remove Bcl2 survival signal\n",
    "#newInit[end]=2.77\n",
    "prob=ODEProblem(f,newInit,(0.0,maxTimeTC),abstol=1e-16,reltol=1e-16,maxiters=1e9)\n",
    "sol=solve(prob,saveat=1.0,progress = true)\n",
    "\n",
    "#lets save this result in a csv file\n",
    "df=DataFrame(sol)\n",
    "# insertcols!(df, 1, :names=>syms)\n",
    "CSV.write(\"outputFiles/apoptosis/TC_averaged.csv\",df)"
   ]
  },
  {
   "cell_type": "code",
   "execution_count": null,
   "metadata": {},
   "outputs": [],
   "source": []
  },
  {
   "cell_type": "code",
   "execution_count": null,
   "metadata": {},
   "outputs": [],
   "source": [
    "#reimport variables names because we want a string again not a sym\n",
    "include(\"modelFiles/averaged/variableNamesApoptosis.jl\")\n",
    "\n",
    "speciesToPlot=\"AMito\"\n",
    "varIndex=findfirst(isequal(speciesToPlot),syms)"
   ]
  },
  {
   "cell_type": "code",
   "execution_count": null,
   "metadata": {},
   "outputs": [],
   "source": [
    "ligandDoses=[0.1,1,10,50,100,200,300,400,500,1000]\n",
    "# ligandDoses=[0.01,0.1]\n",
    "# ligandDoses=[0,0.1,1,2,3,4,5,6,7,8,9,10,100]\n",
    "\n",
    "# y0[1]=0\n",
    "#store all the results in an array to plot at the end, faster than plotting in the loop.\n",
    "MOMParray_averaged=zeros(1,Int(maxTimeTC)+1)\n",
    "\n",
    "for i in ligandDoses\n",
    "    y0=vec(convert(Array, dfss[:,end]))\n",
    "    println(\"Solving solution with ligand: \"*string(i)*\"\")\n",
    "    newInit=y0\n",
    "    newInit[1]=y0[1]+i\n",
    "#     println(\"Solving solution with ligand: \"*string(newInit[1])*\"\")\n",
    "\n",
    "    #we might use this later to remove Bcl2 survival signal\n",
    "    #newInit[end]=2.77\n",
    "#     println(\"about to solve\")\n",
    "    prob=ODEProblem(f,newInit,(0.0,maxTimeTC),abstol=1e-16,reltol=1e-16,maxiters=1e9)\n",
    "    sol=solve(prob,saveat=1,progress = true)\n",
    "#     println(\"solved\")\n",
    "\n",
    "    #lets save this result in a csv file\n",
    "    df=DataFrame(sol)\n",
    "#     println(\"Write to csv\")\n",
    "#     insertcols!(df, 1, :names=>syms)\n",
    "    CSV.write(\"outputFiles/apoptosis/out_Bcl2_averaged\"*string(i)*\".csv\",df)\n",
    "#     println(\"CSV\")\n",
    "    \n",
    "    thisMOMP_averaged=sol[varIndex,:]\n",
    "    MOMParray_averaged=[MOMParray_averaged;thisMOMP_averaged']\n",
    "#     append!(MOMParray, sol(i))\n",
    "\n",
    "    \n",
    "end\n",
    "\n",
    "#cut off the zero array\n",
    "MOMParray_averaged=MOMParray_averaged[2:end,:];\n"
   ]
  },
  {
   "cell_type": "code",
   "execution_count": null,
   "metadata": {},
   "outputs": [],
   "source": [
    "# plot and pretify\n",
    "\n",
    "plot(MOMParray_averaged',palette=palette([:blue, :red], length(ligandDoses)), \n",
    "    lw=2,labels=string.(ligandDoses'),legendtitle = \"Signal\",legend=:outerright,\n",
    "    size=(900,400),margin=5Plots.mm)\n",
    "s=string.(collect(0:6:24))\n",
    "plot!(xticks = (0:(60*6):(24*60),s), ylabel=\"MOMP (units)\",xlabel=\"time h\", \n",
    "    xtickfontsize=14,ytickfontsize=14,xguidefontsize=18,yguidefontsize=18,legendfontsize=14,dpi=300,fmt = :png)\n",
    "# png(\"outputFiles/apoptosis/averaged_MOMP\")"
   ]
  },
  {
   "cell_type": "code",
   "execution_count": null,
   "metadata": {},
   "outputs": [],
   "source": []
  },
  {
   "cell_type": "markdown",
   "metadata": {},
   "source": [
    "## Bcl2 inhibition"
   ]
  },
  {
   "cell_type": "code",
   "execution_count": null,
   "metadata": {},
   "outputs": [],
   "source": [
    "include(\"modelFiles/averaged/odeApoptosisFixed.jl\")\n",
    "stringSyms=syms\n",
    "y0=zeros(length(syms))\n",
    "y0=initConditionsApop(y0,syms)\n",
    "syms2=Symbol.(syms)\n",
    "f=ODEFunction(odeFile!,syms=syms2)\n",
    "\n",
    "#steady state phase\n",
    "print(\"Have errors with SS code so just using a long TC instead\\n\")\n",
    "# prob=ODEProblem(f,y0,(0.0,maxTimeSS))\n",
    "prob=ODEProblem(f,y0,(0.0,10000.0),abstol=1e-16,reltol=1e-16)\n",
    "solss=solve(prob,saveat=100.0,progress = true,isoutofdomain=(y,p,t)->any(x->x<0,y))\n",
    "# solss=solve(prob,saveat=100.0,progress = true)\n",
    "\n",
    "#save the last bit of the SS solution\n",
    "dfss = DataFrame(solss[end-100:end],:auto)\n",
    "#add the variable names and save to a file\n",
    "insertcols!(dfss, 1, :names=>syms2)\n",
    "mkpath(\"outputFiles/apoptosis/\")\n",
    "CSV.write(\"outputFiles/apoptosis/SS_averaged.csv\",dfss);\n",
    "print(\"Steady state found\\n\")"
   ]
  },
  {
   "cell_type": "code",
   "execution_count": null,
   "metadata": {},
   "outputs": [],
   "source": [
    "#dynamic phase, use SS solution as initial conditions\n",
    "y0=vec(convert(Array, dfss[:,end]))\n",
    "h(p,t)=y0"
   ]
  },
  {
   "cell_type": "code",
   "execution_count": null,
   "metadata": {},
   "outputs": [],
   "source": [
    "y0[findfirst(isequal(\"Inhib_eff_Bcl2\"),syms)]=0.5"
   ]
  },
  {
   "cell_type": "code",
   "execution_count": null,
   "metadata": {},
   "outputs": [],
   "source": [
    "newInit=y0\n",
    "newInit[1]=y0[1]+0.01\n",
    "\n",
    "#we might use this later to remove Bcl2 survival signal\n",
    "#newInit[end]=2.77\n",
    "prob=ODEProblem(f,newInit,(0.0,maxTimeTC),abstol=1e-16,reltol=1e-16,maxiters=1e9)\n",
    "sol_Bcl2_05=solve(prob,saveat=1.0,progress = true)\n",
    "\n",
    "#lets save this result in a csv file\n",
    "df=DataFrame(sol_Bcl2_05)\n",
    "# insertcols!(df, 1, :names=>syms)\n",
    "CSV.write(\"outputFiles/apoptosis/TC_average_Bcl2_05.csv\",df)"
   ]
  },
  {
   "cell_type": "code",
   "execution_count": null,
   "metadata": {},
   "outputs": [],
   "source": []
  },
  {
   "cell_type": "code",
   "execution_count": null,
   "metadata": {},
   "outputs": [],
   "source": [
    "include(\"modelFiles/averaged/odeApoptosisFixed.jl\")\n",
    "stringSyms=syms\n",
    "y0=zeros(length(syms))\n",
    "y0=initConditionsApop(y0,syms)\n",
    "syms2=Symbol.(syms)\n",
    "f=ODEFunction(odeFile!,syms=syms2)\n",
    "\n",
    "#steady state phase\n",
    "print(\"Have errors with SS code so just using a long TC instead\\n\")\n",
    "# prob=ODEProblem(f,y0,(0.0,maxTimeSS))\n",
    "prob=ODEProblem(f,y0,(0.0,10000.0),abstol=1e-16,reltol=1e-16)\n",
    "solss=solve(prob,saveat=100.0,progress = true,isoutofdomain=(y,p,t)->any(x->x<0,y))\n",
    "# solss=solve(prob,saveat=100.0,progress = true)\n",
    "\n",
    "#save the last bit of the SS solution\n",
    "dfss = DataFrame(solss[end-100:end],:auto)\n",
    "#add the variable names and save to a file\n",
    "insertcols!(dfss, 1, :names=>syms2)\n",
    "mkpath(\"outputFiles/apoptosis/\")\n",
    "CSV.write(\"outputFiles/apoptosis/SS_averaged.csv\",dfss);\n",
    "print(\"Steady state found\\n\")"
   ]
  },
  {
   "cell_type": "code",
   "execution_count": null,
   "metadata": {},
   "outputs": [],
   "source": [
    "#dynamic phase, use SS solution as initial conditions\n",
    "y0=vec(convert(Array, dfss[:,end]))\n",
    "h(p,t)=y0"
   ]
  },
  {
   "cell_type": "code",
   "execution_count": null,
   "metadata": {},
   "outputs": [],
   "source": [
    "y0[findfirst(isequal(\"Inhib_eff_Bcl2\"),syms)]=0.8"
   ]
  },
  {
   "cell_type": "code",
   "execution_count": null,
   "metadata": {},
   "outputs": [],
   "source": [
    "newInit=y0\n",
    "newInit[1]=y0[1]+0.01\n",
    "\n",
    "#we might use this later to remove Bcl2 survival signal\n",
    "#newInit[end]=2.77\n",
    "prob=ODEProblem(f,newInit,(0.0,maxTimeTC),abstol=1e-16,reltol=1e-16,maxiters=1e9)\n",
    "sol_Bcl2_08=solve(prob,saveat=1.0,progress = true)\n",
    "\n",
    "#lets save this result in a csv file\n",
    "df=DataFrame(sol_Bcl2_08)\n",
    "# insertcols!(df, 1, :names=>syms)\n",
    "CSV.write(\"outputFiles/apoptosis/TC_average_Bcl2_08.csv\",df)"
   ]
  },
  {
   "cell_type": "code",
   "execution_count": null,
   "metadata": {},
   "outputs": [],
   "source": []
  },
  {
   "cell_type": "markdown",
   "metadata": {},
   "source": [
    "## BclxL inhibition"
   ]
  },
  {
   "cell_type": "code",
   "execution_count": null,
   "metadata": {},
   "outputs": [],
   "source": [
    "include(\"modelFiles/averaged/odeApoptosisFixed.jl\")\n",
    "stringSyms=syms\n",
    "y0=zeros(length(syms))\n",
    "y0=initConditionsApop(y0,syms)\n",
    "syms2=Symbol.(syms)\n",
    "f=ODEFunction(odeFile!,syms=syms2)\n",
    "\n",
    "#steady state phase\n",
    "print(\"Have errors with SS code so just using a long TC instead\\n\")\n",
    "# prob=ODEProblem(f,y0,(0.0,maxTimeSS))\n",
    "prob=ODEProblem(f,y0,(0.0,10000.0),abstol=1e-16,reltol=1e-16)\n",
    "solss=solve(prob,saveat=100.0,progress = true,isoutofdomain=(y,p,t)->any(x->x<0,y))\n",
    "# solss=solve(prob,saveat=100.0,progress = true)\n",
    "\n",
    "#save the last bit of the SS solution\n",
    "dfss = DataFrame(solss[end-100:end],:auto)\n",
    "#add the variable names and save to a file\n",
    "insertcols!(dfss, 1, :names=>syms2)\n",
    "mkpath(\"outputFiles/apoptosis/\")\n",
    "CSV.write(\"outputFiles/apoptosis/SS_averaged.csv\",dfss);\n",
    "print(\"Steady state found\\n\")"
   ]
  },
  {
   "cell_type": "code",
   "execution_count": null,
   "metadata": {},
   "outputs": [],
   "source": [
    "#dynamic phase, use SS solution as initial conditions\n",
    "y0=vec(convert(Array, dfss[:,end]))\n",
    "h(p,t)=y0"
   ]
  },
  {
   "cell_type": "code",
   "execution_count": null,
   "metadata": {},
   "outputs": [],
   "source": [
    "y0[findfirst(isequal(\"Inhib_eff_BclxL\"),syms)]=0.5"
   ]
  },
  {
   "cell_type": "code",
   "execution_count": null,
   "metadata": {},
   "outputs": [],
   "source": [
    "newInit=y0\n",
    "newInit[1]=y0[1]+0.01\n",
    "\n",
    "#we might use this later to remove Bcl2 survival signal\n",
    "#newInit[end]=2.77\n",
    "prob=ODEProblem(f,newInit,(0.0,maxTimeTC),abstol=1e-16,reltol=1e-16,maxiters=1e9)\n",
    "sol_BclxL_05=solve(prob,saveat=1.0,progress = true)\n",
    "\n",
    "#lets save this result in a csv file\n",
    "df=DataFrame(sol_BclxL_05)\n",
    "# insertcols!(df, 1, :names=>syms)\n",
    "CSV.write(\"outputFiles/apoptosis/TC_average_BclxL_05.csv\",df)"
   ]
  },
  {
   "cell_type": "code",
   "execution_count": null,
   "metadata": {},
   "outputs": [],
   "source": []
  },
  {
   "cell_type": "code",
   "execution_count": null,
   "metadata": {},
   "outputs": [],
   "source": [
    "include(\"modelFiles/averaged/odeApoptosisFixed.jl\")\n",
    "stringSyms=syms\n",
    "y0=zeros(length(syms))\n",
    "y0=initConditionsApop(y0,syms)\n",
    "syms2=Symbol.(syms)\n",
    "f=ODEFunction(odeFile!,syms=syms2)\n",
    "\n",
    "#steady state phase\n",
    "print(\"Have errors with SS code so just using a long TC instead\\n\")\n",
    "# prob=ODEProblem(f,y0,(0.0,maxTimeSS))\n",
    "prob=ODEProblem(f,y0,(0.0,10000.0),abstol=1e-16,reltol=1e-16)\n",
    "solss=solve(prob,saveat=100.0,progress = true,isoutofdomain=(y,p,t)->any(x->x<0,y))\n",
    "# solss=solve(prob,saveat=100.0,progress = true)\n",
    "\n",
    "#save the last bit of the SS solution\n",
    "dfss = DataFrame(solss[end-100:end],:auto)\n",
    "#add the variable names and save to a file\n",
    "insertcols!(dfss, 1, :names=>syms2)\n",
    "mkpath(\"outputFiles/apoptosis/\")\n",
    "CSV.write(\"outputFiles/apoptosis/SS_averaged.csv\",dfss);\n",
    "print(\"Steady state found\\n\")"
   ]
  },
  {
   "cell_type": "code",
   "execution_count": null,
   "metadata": {},
   "outputs": [],
   "source": [
    "#dynamic phase, use SS solution as initial conditions\n",
    "y0=vec(convert(Array, dfss[:,end]))\n",
    "h(p,t)=y0"
   ]
  },
  {
   "cell_type": "code",
   "execution_count": null,
   "metadata": {},
   "outputs": [],
   "source": [
    "y0[findfirst(isequal(\"Inhib_eff_BclxL\"),syms)]=0.8"
   ]
  },
  {
   "cell_type": "code",
   "execution_count": null,
   "metadata": {},
   "outputs": [],
   "source": [
    "newInit=y0\n",
    "newInit[1]=y0[1]+0.01\n",
    "\n",
    "#we might use this later to remove Bcl2 survival signal\n",
    "#newInit[end]=2.77\n",
    "prob=ODEProblem(f,newInit,(0.0,maxTimeTC),abstol=1e-16,reltol=1e-16,maxiters=1e9)\n",
    "sol_BclxL_08=solve(prob,saveat=1.0,progress = true)\n",
    "\n",
    "#lets save this result in a csv file\n",
    "df=DataFrame(sol_BclxL_08)\n",
    "# insertcols!(df, 1, :names=>syms)\n",
    "CSV.write(\"outputFiles/apoptosis/TC_average_BclxL_08.csv\",df)"
   ]
  },
  {
   "cell_type": "code",
   "execution_count": null,
   "metadata": {},
   "outputs": [],
   "source": []
  },
  {
   "cell_type": "markdown",
   "metadata": {},
   "source": [
    "## Mcl1 inhibition"
   ]
  },
  {
   "cell_type": "code",
   "execution_count": null,
   "metadata": {},
   "outputs": [],
   "source": [
    "include(\"modelFiles/averaged/odeApoptosisFixed.jl\")\n",
    "stringSyms=syms\n",
    "y0=zeros(length(syms))\n",
    "y0=initConditionsApop(y0,syms)\n",
    "syms2=Symbol.(syms)\n",
    "f=ODEFunction(odeFile!,syms=syms2)\n",
    "\n",
    "#steady state phase\n",
    "print(\"Have errors with SS code so just using a long TC instead\\n\")\n",
    "# prob=ODEProblem(f,y0,(0.0,maxTimeSS))\n",
    "prob=ODEProblem(f,y0,(0.0,10000.0),abstol=1e-16,reltol=1e-16)\n",
    "solss=solve(prob,saveat=100.0,progress = true,isoutofdomain=(y,p,t)->any(x->x<0,y))\n",
    "# solss=solve(prob,saveat=100.0,progress = true)\n",
    "\n",
    "#save the last bit of the SS solution\n",
    "dfss = DataFrame(solss[end-100:end],:auto)\n",
    "#add the variable names and save to a file\n",
    "insertcols!(dfss, 1, :names=>syms2)\n",
    "mkpath(\"outputFiles/apoptosis/\")\n",
    "CSV.write(\"outputFiles/apoptosis/SS_averaged.csv\",dfss);\n",
    "print(\"Steady state found\\n\")"
   ]
  },
  {
   "cell_type": "code",
   "execution_count": null,
   "metadata": {},
   "outputs": [],
   "source": [
    "#dynamic phase, use SS solution as initial conditions\n",
    "y0=vec(convert(Array, dfss[:,end]))\n",
    "h(p,t)=y0"
   ]
  },
  {
   "cell_type": "code",
   "execution_count": null,
   "metadata": {},
   "outputs": [],
   "source": [
    "y0[findfirst(isequal(\"Inhib_eff_Mcl1\"),syms)]=0.5"
   ]
  },
  {
   "cell_type": "code",
   "execution_count": null,
   "metadata": {},
   "outputs": [],
   "source": [
    "newInit=y0\n",
    "newInit[1]=y0[1]+0.01\n",
    "\n",
    "#we might use this later to remove Bcl2 survival signal\n",
    "#newInit[end]=2.77\n",
    "prob=ODEProblem(f,newInit,(0.0,maxTimeTC),abstol=1e-16,reltol=1e-16,maxiters=1e9)\n",
    "sol_Mcl1_05=solve(prob,saveat=1.0,progress = true)\n",
    "\n",
    "#lets save this result in a csv file\n",
    "df=DataFrame(sol_Mcl1_05)\n",
    "# insertcols!(df, 1, :names=>syms)\n",
    "CSV.write(\"outputFiles/apoptosis/TC_average_Mcl1_05.csv\",df)"
   ]
  },
  {
   "cell_type": "code",
   "execution_count": null,
   "metadata": {},
   "outputs": [],
   "source": []
  },
  {
   "cell_type": "code",
   "execution_count": null,
   "metadata": {},
   "outputs": [],
   "source": [
    "include(\"modelFiles/averaged/odeApoptosisFixed.jl\")\n",
    "stringSyms=syms\n",
    "y0=zeros(length(syms))\n",
    "y0=initConditionsApop(y0,syms)\n",
    "syms2=Symbol.(syms)\n",
    "f=ODEFunction(odeFile!,syms=syms2)\n",
    "\n",
    "#steady state phase\n",
    "print(\"Have errors with SS code so just using a long TC instead\\n\")\n",
    "# prob=ODEProblem(f,y0,(0.0,maxTimeSS))\n",
    "prob=ODEProblem(f,y0,(0.0,10000.0),abstol=1e-16,reltol=1e-16)\n",
    "solss=solve(prob,saveat=100.0,progress = true,isoutofdomain=(y,p,t)->any(x->x<0,y))\n",
    "# solss=solve(prob,saveat=100.0,progress = true)\n",
    "\n",
    "#save the last bit of the SS solution\n",
    "dfss = DataFrame(solss[end-100:end],:auto)\n",
    "#add the variable names and save to a file\n",
    "insertcols!(dfss, 1, :names=>syms2)\n",
    "mkpath(\"outputFiles/apoptosis/\")\n",
    "CSV.write(\"outputFiles/apoptosis/SS_averaged.csv\",dfss);\n",
    "print(\"Steady state found\\n\")"
   ]
  },
  {
   "cell_type": "code",
   "execution_count": null,
   "metadata": {},
   "outputs": [],
   "source": [
    "#dynamic phase, use SS solution as initial conditions\n",
    "y0=vec(convert(Array, dfss[:,end]))\n",
    "h(p,t)=y0"
   ]
  },
  {
   "cell_type": "code",
   "execution_count": null,
   "metadata": {},
   "outputs": [],
   "source": [
    "y0[findfirst(isequal(\"Inhib_eff_Mcl1\"),syms)]=0.8"
   ]
  },
  {
   "cell_type": "code",
   "execution_count": null,
   "metadata": {},
   "outputs": [],
   "source": [
    "newInit=y0\n",
    "newInit[1]=y0[1]+0.01\n",
    "\n",
    "#we might use this later to remove Bcl2 survival signal\n",
    "#newInit[end]=2.77\n",
    "prob=ODEProblem(f,newInit,(0.0,maxTimeTC),abstol=1e-16,reltol=1e-16,maxiters=1e9)\n",
    "sol_Mcl1_08=solve(prob,saveat=1.0,progress = true)\n",
    "\n",
    "#lets save this result in a csv file\n",
    "df=DataFrame(sol_Mcl1_08)\n",
    "# insertcols!(df, 1, :names=>syms)\n",
    "CSV.write(\"outputFiles/apoptosis/TC_average_Mcl1_08.csv\",df)"
   ]
  },
  {
   "cell_type": "code",
   "execution_count": null,
   "metadata": {},
   "outputs": [],
   "source": []
  },
  {
   "cell_type": "code",
   "execution_count": null,
   "metadata": {},
   "outputs": [],
   "source": [
    "AMito=findfirst(isequal(\"AMito\"),syms)\n",
    "plot(sol[AMito,:]./sol[AMito,:],yaxis=:log,lw=2,linecolor=\"Black\",label=\"WT\")\n",
    "plot!(sol_Bcl2_05[AMito,:]./sol[AMito,:],yaxis=:log,lw=2,linecolor=\"Olive Drab\",label=\"Bcl-2 (50%)\")\n",
    "plot!(sol_Bcl2_08[AMito,:]./sol[AMito,:],yaxis=:log,lw=2,linecolor=\"Tomato\",label=\"Bcl-2 (20%)\")\n",
    "plot!(sol_BclxL_05[AMito,:]./sol[AMito,:],yaxis=:log,lw=2,linecolor=\"Light Sky Blue\",label=\"Bcl-xL (50%)\")\n",
    "plot!(sol_BclxL_08[AMito,:]./sol[AMito,:],yaxis=:log,lw=2,linecolor=\"Orchid\",label=\"Bcl-xL (20%)\")\n",
    "plot!(sol_Mcl1_05[AMito,:]./sol[AMito,:],yaxis=:log,lw=2,linecolor=\"Slate Gray\",label=\"Mcl1 (50%)\")\n",
    "plot!(sol_Mcl1_08[AMito,:]./sol[AMito,:],yaxis=:log,lw=2,linecolor=\"Orange\",label=\"Mcl1 (20%)\")\n",
    "plot!(palette=:seaborn_colorblind,legendtitle = \"Inhibitors\",legend=:outerright,size=(900,400),margin=5Plots.mm)\n",
    "s=string.(collect(0:8:24))\n",
    "plot!(xticks = (0:(60*8):(24*60),s), ylabel=\"MOMP (Log Fold change)\",xlabel=\"time h\", \n",
    "    xtickfontsize=14,ytickfontsize=14,xguidefontsize=18,yguidefontsize=18,legendfontsize=14,dpi=300,fmt = :png)\n",
    "# png(\"outputFiles/apoptosis/Inhib_average\")"
   ]
  },
  {
   "cell_type": "code",
   "execution_count": null,
   "metadata": {},
   "outputs": [],
   "source": []
  }
 ],
 "metadata": {
  "kernelspec": {
   "display_name": "Julia 1.8.0-DEV",
   "language": "julia",
   "name": "julia-1.8"
  },
  "language_info": {
   "file_extension": ".jl",
   "mimetype": "application/julia",
   "name": "julia",
   "version": "1.8.0"
  }
 },
 "nbformat": 4,
 "nbformat_minor": 4
}
